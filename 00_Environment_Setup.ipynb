{
 "cells": [
  {
   "cell_type": "code",
   "execution_count": 1,
   "metadata": {},
   "outputs": [],
   "source": [
    "import os\n",
    "\n",
    "import azureml.core\n",
    "\n",
    "subscription_id = os.getenv(\"SUBSCRIPTION_ID\", default=\"f97fb87f-32d7-4d7c-9bc5-ea43b4fea7ac\")\n",
    "resource_group = os.getenv(\"RESOURCE_GROUP\", default=\"ManyModelsRG\")\n",
    "workspace_name = os.getenv(\"WORKSPACE_NAME\", default=\"ManyModelsAccelerator\")\n",
    "workspace_region = os.getenv(\"WORKSPACE_REGION\", default=\"westus2\")"
   ]
  },
  {
   "cell_type": "code",
   "execution_count": 2,
   "metadata": {},
   "outputs": [
    {
     "name": "stdout",
     "output_type": "stream",
     "text": [
      "Workspace configuration succeeded. Skip the workspace creation steps below\n"
     ]
    }
   ],
   "source": [
    "from azureml.core import Workspace\n",
    "\n",
    "try:\n",
    "    ws = Workspace(subscription_id = subscription_id, \n",
    "                   resource_group = resource_group, \n",
    "                   workspace_name = workspace_name)\n",
    "    # write the details of the workspace to a configuration file to the notebook library\n",
    "    ws.write_config()\n",
    "    print(\"Workspace configuration succeeded. Skip the workspace creation steps below\")\n",
    "except:\n",
    "    print(\"Workspace not accessible. Change your parameters or create a new workspace below\")"
   ]
  },
  {
   "cell_type": "code",
   "execution_count": 3,
   "metadata": {},
   "outputs": [
    {
     "data": {
      "text/plain": [
       "{'id': '/subscriptions/f97fb87f-32d7-4d7c-9bc5-ea43b4fea7ac/resourceGroups/ManyModelsRG/providers/Microsoft.MachineLearningServices/workspaces/ManyModelsAccelerator',\n",
       " 'name': 'ManyModelsAccelerator',\n",
       " 'location': 'westus2',\n",
       " 'type': 'Microsoft.MachineLearningServices/workspaces',\n",
       " 'tags': {},\n",
       " 'sku': 'Enterprise',\n",
       " 'workspaceid': 'a5ef5f7f-43af-4a79-9304-367ebf3609b0',\n",
       " 'description': '',\n",
       " 'friendlyName': '',\n",
       " 'creationTime': '2019-11-26T21:10:54.5723355+00:00',\n",
       " 'containerRegistry': '/subscriptions/f97fb87f-32d7-4d7c-9bc5-ea43b4fea7ac/resourceGroups/ManyModelsRG/providers/Microsoft.ContainerRegistry/registries/manymodelsac5120b58a',\n",
       " 'keyVault': '/subscriptions/f97fb87f-32d7-4d7c-9bc5-ea43b4fea7ac/resourcegroups/manymodelsrg/providers/microsoft.keyvault/vaults/manymodelsacce2295477689',\n",
       " 'applicationInsights': '/subscriptions/f97fb87f-32d7-4d7c-9bc5-ea43b4fea7ac/resourcegroups/manymodelsrg/providers/microsoft.insights/components/manymodelsacce9409214618',\n",
       " 'identityPrincipalId': '250dc641-7e7a-49dd-9f3d-9e359ae59479',\n",
       " 'identityTenantId': '72f988bf-86f1-41af-91ab-2d7cd011db47',\n",
       " 'identityType': 'SystemAssigned',\n",
       " 'storageAccount': '/subscriptions/f97fb87f-32d7-4d7c-9bc5-ea43b4fea7ac/resourcegroups/manymodelsrg/providers/microsoft.storage/storageaccounts/manymodelsacce1039598234',\n",
       " 'hbiWorkspace': False}"
      ]
     },
     "execution_count": 3,
     "metadata": {},
     "output_type": "execute_result"
    }
   ],
   "source": [
    "\n",
    "# Create the workspace using the specified parameters\n",
    "ws = Workspace.create(name=workspace_name,\n",
    "                  subscription_id=subscription_id,\n",
    "                  resource_group=resource_group, \n",
    "                  location=workspace_region,\n",
    "                  create_resource_group=True,\n",
    "                  sku='basic',\n",
    "                  exist_ok=True)\n",
    "ws.get_details()\n",
    "\n",
    "# write the details of the workspace to a configuration file in the parent folder"
   ]
  },
  {
   "cell_type": "code",
   "execution_count": 4,
   "metadata": {},
   "outputs": [],
   "source": [
    "ws.write_config()"
   ]
  },
  {
   "cell_type": "markdown",
   "metadata": {},
   "source": [
    "# Create compute"
   ]
  },
  {
   "cell_type": "code",
   "execution_count": 5,
   "metadata": {},
   "outputs": [
    {
     "name": "stdout",
     "output_type": "stream",
     "text": [
      "Found existing cluster, use it.\n",
      "Succeeded\n",
      "AmlCompute wait for completion finished\n",
      "\n",
      "Minimum number of nodes requested have been provisioned\n"
     ]
    }
   ],
   "source": [
    "from azureml.core.compute import ComputeTarget, AmlCompute\n",
    "from azureml.core.compute_target import ComputeTargetException\n",
    "\n",
    "# Choose a name for your CPU cluster\n",
    "cpu_cluster_name = \"hichandonew\"\n",
    "\n",
    "# Verify that cluster does not exist already\n",
    "try:\n",
    "    cpu_cluster = ComputeTarget(workspace=ws, name=cpu_cluster_name)\n",
    "    print('Found existing cluster, use it.')\n",
    "except ComputeTargetException:\n",
    "    compute_config = AmlCompute.provisioning_configuration(vm_size='STANDARD_D13_V2',\n",
    "                                                           min_nodes=5,\n",
    "                                                           max_nodes=20)\n",
    "    cpu_cluster = ComputeTarget.create(ws, cpu_cluster_name, compute_config)\n",
    "\n",
    "cpu_cluster.wait_for_completion(show_output=True)"
   ]
  },
  {
   "cell_type": "markdown",
   "metadata": {},
   "source": [
    "# Create dataset"
   ]
  },
  {
   "cell_type": "code",
   "execution_count": 6,
   "metadata": {},
   "outputs": [
    {
     "name": "stdout",
     "output_type": "stream",
     "text": [
      "Requirement already satisfied: azureml-opendatasets in c:\\anaconda3\\envs\\latest_sdk\\lib\\site-packages (1.0.85)\n",
      "Requirement already satisfied: pyspark in c:\\anaconda3\\envs\\latest_sdk\\lib\\site-packages (from azureml-opendatasets) (2.4.4)\n",
      "Requirement already satisfied: azureml-telemetry==1.0.85.* in c:\\anaconda3\\envs\\latest_sdk\\lib\\site-packages (from azureml-opendatasets) (1.0.85)\n",
      "Requirement already satisfied: pandas<=0.23.4,>=0.21.0 in c:\\anaconda3\\envs\\latest_sdk\\lib\\site-packages (from azureml-opendatasets) (0.23.4)\n",
      "Requirement already satisfied: pyarrow==0.15.* in c:\\anaconda3\\envs\\latest_sdk\\lib\\site-packages (from azureml-opendatasets) (0.15.1)\n",
      "Requirement already satisfied: azureml-dataprep[fuse,pandas]<1.2.0a,>=1.1.37a in c:\\anaconda3\\envs\\latest_sdk\\lib\\site-packages (from azureml-opendatasets) (1.1.38)\n",
      "Requirement already satisfied: multimethods in c:\\anaconda3\\envs\\latest_sdk\\lib\\site-packages (from azureml-opendatasets) (1.0.0)\n",
      "Requirement already satisfied: numpy<=1.16.2,>=1.11.0 in c:\\anaconda3\\envs\\latest_sdk\\lib\\site-packages (from azureml-opendatasets) (1.16.2)\n",
      "Requirement already satisfied: azureml-core==1.0.85.* in c:\\anaconda3\\envs\\latest_sdk\\lib\\site-packages (from azureml-opendatasets) (1.0.85)\n",
      "Requirement already satisfied: scipy<=1.1.0,>=1.0.0 in c:\\anaconda3\\envs\\latest_sdk\\lib\\site-packages (from azureml-opendatasets) (1.1.0)\n",
      "Requirement already satisfied: azure-storage-blob<12.0.0 in c:\\anaconda3\\envs\\latest_sdk\\lib\\site-packages (from azureml-opendatasets) (2.1.0)\n",
      "Requirement already satisfied: py4j==0.10.7 in c:\\anaconda3\\envs\\latest_sdk\\lib\\site-packages (from pyspark->azureml-opendatasets) (0.10.7)\n",
      "Requirement already satisfied: applicationinsights in c:\\anaconda3\\envs\\latest_sdk\\lib\\site-packages (from azureml-telemetry==1.0.85.*->azureml-opendatasets) (0.11.9)\n",
      "Requirement already satisfied: pytz>=2011k in c:\\anaconda3\\envs\\latest_sdk\\lib\\site-packages (from pandas<=0.23.4,>=0.21.0->azureml-opendatasets) (2019.3)\n",
      "Requirement already satisfied: python-dateutil>=2.5.0 in c:\\anaconda3\\envs\\latest_sdk\\lib\\site-packages (from pandas<=0.23.4,>=0.21.0->azureml-opendatasets) (2.8.1)\n",
      "Requirement already satisfied: six>=1.0.0 in c:\\anaconda3\\envs\\latest_sdk\\lib\\site-packages (from pyarrow==0.15.*->azureml-opendatasets) (1.14.0)\n",
      "Requirement already satisfied: dotnetcore2>=2.1.9 in c:\\anaconda3\\envs\\latest_sdk\\lib\\site-packages (from azureml-dataprep[fuse,pandas]<1.2.0a,>=1.1.37a->azureml-opendatasets) (2.1.11)\n",
      "Requirement already satisfied: azureml-dataprep-native<14.0.0,>=13.2.0 in c:\\anaconda3\\envs\\latest_sdk\\lib\\site-packages (from azureml-dataprep[fuse,pandas]<1.2.0a,>=1.1.37a->azureml-opendatasets) (13.2.0)\n",
      "Requirement already satisfied: cloudpickle>=1.1.0 in c:\\anaconda3\\envs\\latest_sdk\\lib\\site-packages (from azureml-dataprep[fuse,pandas]<1.2.0a,>=1.1.37a->azureml-opendatasets) (1.2.2)\n",
      "Requirement already satisfied: fusepy>=3.0.1; extra == \"fuse\" in c:\\anaconda3\\envs\\latest_sdk\\lib\\site-packages (from azureml-dataprep[fuse,pandas]<1.2.0a,>=1.1.37a->azureml-opendatasets) (3.0.1)\n",
      "Requirement already satisfied: jmespath in c:\\anaconda3\\envs\\latest_sdk\\lib\\site-packages (from azureml-core==1.0.85.*->azureml-opendatasets) (0.9.4)\n",
      "Requirement already satisfied: azure-mgmt-resource>=1.2.1 in c:\\anaconda3\\envs\\latest_sdk\\lib\\site-packages (from azureml-core==1.0.85.*->azureml-opendatasets) (7.0.0)\n",
      "Requirement already satisfied: pathspec in c:\\anaconda3\\envs\\latest_sdk\\lib\\site-packages (from azureml-core==1.0.85.*->azureml-opendatasets) (0.7.0)\n",
      "Requirement already satisfied: contextlib2 in c:\\anaconda3\\envs\\latest_sdk\\lib\\site-packages (from azureml-core==1.0.85.*->azureml-opendatasets) (0.6.0.post1)\n",
      "Requirement already satisfied: jsonpickle in c:\\anaconda3\\envs\\latest_sdk\\lib\\site-packages (from azureml-core==1.0.85.*->azureml-opendatasets) (1.2)\n",
      "Requirement already satisfied: azure-mgmt-authorization>=0.40.0 in c:\\anaconda3\\envs\\latest_sdk\\lib\\site-packages (from azureml-core==1.0.85.*->azureml-opendatasets) (0.60.0)\n",
      "Requirement already satisfied: azure-common>=1.1.12 in c:\\anaconda3\\envs\\latest_sdk\\lib\\site-packages (from azureml-core==1.0.85.*->azureml-opendatasets) (1.1.24)\n",
      "Requirement already satisfied: backports.tempfile in c:\\anaconda3\\envs\\latest_sdk\\lib\\site-packages (from azureml-core==1.0.85.*->azureml-opendatasets) (1.0)\n",
      "Requirement already satisfied: cryptography!=1.9,!=2.0.*,!=2.1.*,!=2.2.* in c:\\anaconda3\\envs\\latest_sdk\\lib\\site-packages (from azureml-core==1.0.85.*->azureml-opendatasets) (2.8)\n",
      "Requirement already satisfied: docker in c:\\anaconda3\\envs\\latest_sdk\\lib\\site-packages (from azureml-core==1.0.85.*->azureml-opendatasets) (4.1.0)\n",
      "Requirement already satisfied: pyopenssl in c:\\anaconda3\\envs\\latest_sdk\\lib\\site-packages (from azureml-core==1.0.85.*->azureml-opendatasets) (19.1.0)\n",
      "Requirement already satisfied: requests>=2.19.1 in c:\\anaconda3\\envs\\latest_sdk\\lib\\site-packages (from azureml-core==1.0.85.*->azureml-opendatasets) (2.22.0)\n",
      "Requirement already satisfied: azure-mgmt-containerregistry>=2.0.0 in c:\\anaconda3\\envs\\latest_sdk\\lib\\site-packages (from azureml-core==1.0.85.*->azureml-opendatasets) (2.8.0)\n",
      "Requirement already satisfied: msrestazure>=0.4.33 in c:\\anaconda3\\envs\\latest_sdk\\lib\\site-packages (from azureml-core==1.0.85.*->azureml-opendatasets) (0.6.2)\n",
      "Requirement already satisfied: ruamel.yaml<=0.15.89,>=0.15.35 in c:\\anaconda3\\envs\\latest_sdk\\lib\\site-packages (from azureml-core==1.0.85.*->azureml-opendatasets) (0.15.89)\n",
      "Requirement already satisfied: SecretStorage in c:\\anaconda3\\envs\\latest_sdk\\lib\\site-packages (from azureml-core==1.0.85.*->azureml-opendatasets) (3.1.2)\n",
      "Requirement already satisfied: azure-mgmt-storage>=1.5.0 in c:\\anaconda3\\envs\\latest_sdk\\lib\\site-packages (from azureml-core==1.0.85.*->azureml-opendatasets) (7.1.0)\n",
      "Requirement already satisfied: azure-mgmt-keyvault>=0.40.0 in c:\\anaconda3\\envs\\latest_sdk\\lib\\site-packages (from azureml-core==1.0.85.*->azureml-opendatasets) (2.0.0)\n",
      "Requirement already satisfied: urllib3>=1.23 in c:\\anaconda3\\envs\\latest_sdk\\lib\\site-packages (from azureml-core==1.0.85.*->azureml-opendatasets) (1.25.8)\n",
      "Requirement already satisfied: PyJWT in c:\\anaconda3\\envs\\latest_sdk\\lib\\site-packages (from azureml-core==1.0.85.*->azureml-opendatasets) (1.7.1)\n",
      "Requirement already satisfied: msrest>=0.5.1 in c:\\anaconda3\\envs\\latest_sdk\\lib\\site-packages (from azureml-core==1.0.85.*->azureml-opendatasets) (0.6.10)\n",
      "Requirement already satisfied: azure-graphrbac>=0.40.0 in c:\\anaconda3\\envs\\latest_sdk\\lib\\site-packages (from azureml-core==1.0.85.*->azureml-opendatasets) (0.61.1)\n",
      "Requirement already satisfied: ndg-httpsclient in c:\\anaconda3\\envs\\latest_sdk\\lib\\site-packages (from azureml-core==1.0.85.*->azureml-opendatasets) (0.5.1)\n",
      "Requirement already satisfied: adal>=1.2.0 in c:\\anaconda3\\envs\\latest_sdk\\lib\\site-packages (from azureml-core==1.0.85.*->azureml-opendatasets) (1.2.2)\n",
      "Requirement already satisfied: azure-storage-common~=2.1 in c:\\anaconda3\\envs\\latest_sdk\\lib\\site-packages (from azure-storage-blob<12.0.0->azureml-opendatasets) (2.1.0)\n",
      "Requirement already satisfied: distro>=1.2.0 in c:\\anaconda3\\envs\\latest_sdk\\lib\\site-packages (from dotnetcore2>=2.1.9->azureml-dataprep[fuse,pandas]<1.2.0a,>=1.1.37a->azureml-opendatasets) (1.4.0)\n",
      "Requirement already satisfied: backports.weakref in c:\\anaconda3\\envs\\latest_sdk\\lib\\site-packages (from backports.tempfile->azureml-core==1.0.85.*->azureml-opendatasets) (1.0.post1)\n",
      "Requirement already satisfied: cffi!=1.11.3,>=1.8 in c:\\anaconda3\\envs\\latest_sdk\\lib\\site-packages (from cryptography!=1.9,!=2.0.*,!=2.1.*,!=2.2.*->azureml-core==1.0.85.*->azureml-opendatasets) (1.13.2)\n",
      "Requirement already satisfied: websocket-client>=0.32.0 in c:\\anaconda3\\envs\\latest_sdk\\lib\\site-packages (from docker->azureml-core==1.0.85.*->azureml-opendatasets) (0.57.0)\n",
      "Requirement already satisfied: pypiwin32==223; sys_platform == \"win32\" and python_version >= \"3.6\" in c:\\anaconda3\\envs\\latest_sdk\\lib\\site-packages (from docker->azureml-core==1.0.85.*->azureml-opendatasets) (223)\n",
      "Requirement already satisfied: idna<2.9,>=2.5 in c:\\anaconda3\\envs\\latest_sdk\\lib\\site-packages (from requests>=2.19.1->azureml-core==1.0.85.*->azureml-opendatasets) (2.8)\n",
      "Requirement already satisfied: chardet<3.1.0,>=3.0.2 in c:\\anaconda3\\envs\\latest_sdk\\lib\\site-packages (from requests>=2.19.1->azureml-core==1.0.85.*->azureml-opendatasets) (3.0.4)\n",
      "Requirement already satisfied: certifi>=2017.4.17 in c:\\anaconda3\\envs\\latest_sdk\\lib\\site-packages (from requests>=2.19.1->azureml-core==1.0.85.*->azureml-opendatasets) (2019.11.28)\n",
      "Requirement already satisfied: jeepney>=0.4.2 in c:\\anaconda3\\envs\\latest_sdk\\lib\\site-packages (from SecretStorage->azureml-core==1.0.85.*->azureml-opendatasets) (0.4.2)\n",
      "Requirement already satisfied: requests-oauthlib>=0.5.0 in c:\\anaconda3\\envs\\latest_sdk\\lib\\site-packages (from msrest>=0.5.1->azureml-core==1.0.85.*->azureml-opendatasets) (1.3.0)\n",
      "Requirement already satisfied: isodate>=0.6.0 in c:\\anaconda3\\envs\\latest_sdk\\lib\\site-packages (from msrest>=0.5.1->azureml-core==1.0.85.*->azureml-opendatasets) (0.6.0)\n",
      "Requirement already satisfied: pyasn1>=0.1.1 in c:\\anaconda3\\envs\\latest_sdk\\lib\\site-packages (from ndg-httpsclient->azureml-core==1.0.85.*->azureml-opendatasets) (0.4.8)\n",
      "Requirement already satisfied: pycparser in c:\\anaconda3\\envs\\latest_sdk\\lib\\site-packages (from cffi!=1.11.3,>=1.8->cryptography!=1.9,!=2.0.*,!=2.1.*,!=2.2.*->azureml-core==1.0.85.*->azureml-opendatasets) (2.19)\n",
      "Requirement already satisfied: pywin32>=223 in c:\\anaconda3\\envs\\latest_sdk\\lib\\site-packages (from pypiwin32==223; sys_platform == \"win32\" and python_version >= \"3.6\"->docker->azureml-core==1.0.85.*->azureml-opendatasets) (227)\n",
      "Requirement already satisfied: oauthlib>=3.0.0 in c:\\anaconda3\\envs\\latest_sdk\\lib\\site-packages (from requests-oauthlib>=0.5.0->msrest>=0.5.1->azureml-core==1.0.85.*->azureml-opendatasets) (3.1.0)\n"
     ]
    },
    {
     "name": "stderr",
     "output_type": "stream",
     "text": [
      "WARNING: pip is being invoked by an old script wrapper. This will fail in a future version of pip.\n",
      "Please see https://github.com/pypa/pip/issues/5599 for advice on fixing the underlying issue.\n",
      "To avoid this problem you can invoke Python with '-m pip' instead of running pip directly.\n"
     ]
    }
   ],
   "source": [
    "!pip install azureml-opendatasets"
   ]
  },
  {
   "cell_type": "code",
   "execution_count": 9,
   "metadata": {},
   "outputs": [
    {
     "name": "stdout",
     "output_type": "stream",
     "text": [
      "Uploading an estimated of 10 files\n",
      "Uploading oj_sales_data\\Store1000_dominicks.csv\n",
      "Uploading oj_sales_data\\Store1000_minute.maid.csv\n",
      "Uploading oj_sales_data\\Store1000_tropicana.csv\n",
      "Uploading oj_sales_data\\Store1001_dominicks.csv\n",
      "Uploading oj_sales_data\\Store1001_minute.maid.csv\n",
      "Uploading oj_sales_data\\Store1001_tropicana.csv\n",
      "Uploading oj_sales_data\\Store1002_dominicks.csv\n",
      "Uploading oj_sales_data\\Store1002_minute.maid.csv\n",
      "Uploading oj_sales_data\\Store1002_tropicana.csv\n",
      "Uploading oj_sales_data\\Store1003_dominicks.csv\n",
      "Uploaded oj_sales_data\\Store1000_minute.maid.csv, 1 files out of an estimated total of 10\n",
      "Uploaded oj_sales_data\\Store1002_minute.maid.csv, 2 files out of an estimated total of 10\n",
      "Uploaded oj_sales_data\\Store1002_dominicks.csv, 3 files out of an estimated total of 10\n",
      "Uploaded oj_sales_data\\Store1001_dominicks.csv, 4 files out of an estimated total of 10\n",
      "Uploaded oj_sales_data\\Store1001_minute.maid.csv, 5 files out of an estimated total of 10\n",
      "Uploaded oj_sales_data\\Store1000_dominicks.csv, 6 files out of an estimated total of 10\n",
      "Uploaded oj_sales_data\\Store1001_tropicana.csv, 7 files out of an estimated total of 10\n",
      "Uploaded oj_sales_data\\Store1003_dominicks.csv, 8 files out of an estimated total of 10\n",
      "Uploaded oj_sales_data\\Store1000_tropicana.csv, 9 files out of an estimated total of 10\n",
      "Uploaded oj_sales_data\\Store1002_tropicana.csv, 10 files out of an estimated total of 10\n",
      "Uploaded 10 files\n"
     ]
    },
    {
     "data": {
      "text/plain": [
       "{\n",
       "  \"source\": [\n",
       "    \"('workspaceblobstore', 'oj_sales_data')\"\n",
       "  ],\n",
       "  \"definition\": [\n",
       "    \"GetDatastoreFiles\"\n",
       "  ],\n",
       "  \"registration\": {\n",
       "    \"id\": \"7fcaaa6b-9024-4031-a4d6-9983c19ddf1c\",\n",
       "    \"name\": \"oj_data_small\",\n",
       "    \"version\": 3,\n",
       "    \"workspace\": \"Workspace.create(name='ManyModelsAccelerator', subscription_id='f97fb87f-32d7-4d7c-9bc5-ea43b4fea7ac', resource_group='ManyModelsRG')\"\n",
       "  }\n",
       "}"
      ]
     },
     "execution_count": 9,
     "metadata": {},
     "output_type": "execute_result"
    }
   ],
   "source": [
    "from azureml.core.dataset import Dataset\n",
    "from azureml.opendatasets import OjSalesSimulated\n",
    "\n",
    "# Pull all of the data\n",
    "oj_sales_files = OjSalesSimulated.get_file_dataset()\n",
    "\n",
    "# Pull the first 10 files\n",
    "oj_sales_files_small = OjSalesSimulated.get_file_dataset().take(10)\n",
    "\n",
    "target_path = 'oj_sales_data' \n",
    "\n",
    "oj_sales_files_small.download(target_path, overwrite=True)\n",
    "datastore = ws.get_default_datastore()\n",
    "datastore.upload(src_dir = target_path,\n",
    "                target_path = target_path,\n",
    "                overwrite = True)\n",
    "\n",
    "path_on_datastore = datastore.path(target_path)\n",
    "ds = Dataset.File.from_files(path=path_on_datastore, validate=False)\n",
    "\n",
    "dataset_name = 'oj_data_small'\n",
    "ds.register(ws, dataset_name, create_new_version=True)"
   ]
  },
  {
   "cell_type": "code",
   "execution_count": null,
   "metadata": {},
   "outputs": [],
   "source": []
  }
 ],
 "metadata": {
  "authors": [
   {
    "name": "roastala"
   }
  ],
  "kernelspec": {
   "display_name": "Python 3",
   "language": "python",
   "name": "python3"
  },
  "language_info": {
   "codemirror_mode": {
    "name": "ipython",
    "version": 3
   },
   "file_extension": ".py",
   "mimetype": "text/x-python",
   "name": "python",
   "nbconvert_exporter": "python",
   "pygments_lexer": "ipython3",
   "version": "3.7.6"
  }
 },
 "nbformat": 4,
 "nbformat_minor": 2
}
