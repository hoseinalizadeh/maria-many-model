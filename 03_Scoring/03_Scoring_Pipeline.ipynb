{
 "cells": [
  {
   "cell_type": "markdown",
   "metadata": {},
   "source": [
    "# Scoring Pipeline\n",
    "\n",
    "In this notebook we create a scoring pipeline that takes a registered model and new data to produce a set of predictions."
   ]
  },
  {
   "cell_type": "code",
   "execution_count": 1,
   "metadata": {},
   "outputs": [],
   "source": [
    "from azureml.core import Workspace, Dataset, Datastore, Experiment\n",
    "from azureml.data.data_reference import DataReference\n",
    "from azureml.pipeline.core import PipelineData, PipelineParameter, Pipeline\n",
    "from azureml.pipeline.steps import PythonScriptStep, DataTransferStep\n",
    "from azureml.core.runconfig import RunConfiguration, CondaDependencies, DEFAULT_CPU_IMAGE\n",
    "from azureml.core.compute import AmlCompute"
   ]
  },
  {
   "cell_type": "code",
   "execution_count": 2,
   "metadata": {},
   "outputs": [],
   "source": [
    "DATASTOR = \"workspaceblobstore\""
   ]
  },
  {
   "cell_type": "code",
   "execution_count": 3,
   "metadata": {},
   "outputs": [
    {
     "name": "stderr",
     "output_type": "stream",
     "text": [
      "WARNING - Warning: Falling back to use azure cli login credentials.\n",
      "If you run your code in unattended mode, i.e., where you can't give a user input, then we recommend to use ServicePrincipalAuthentication or MsiAuthentication.\n",
      "Please refer to aka.ms/aml-notebook-auth for different authentication mechanisms in azureml-sdk.\n"
     ]
    }
   ],
   "source": [
    "ws = Workspace.from_config()\n",
    "dstor = Datastore.get(ws, DATASTOR)\n",
    "experiment = Experiment(ws, \"airlift\")\n",
    "aml_compute_target = AmlCompute(ws, name=\"onenode-cpu\")"
   ]
  },
  {
   "cell_type": "code",
   "execution_count": 4,
   "metadata": {},
   "outputs": [],
   "source": [
    "conda_run_config = RunConfiguration(framework=\"python\")\n",
    "conda_run_config.target = aml_compute_target\n",
    "conda_run_config.environment.docker.enabled = True\n",
    "conda_run_config.environment.docker.base_image = DEFAULT_CPU_IMAGE\n",
    "cd = CondaDependencies.create(pip_packages=[\"azureml-sdk[automl]\", \"scikit-learn\", \"pandas==0.24\"], conda_packages=[\"numpy\"])\n",
    "conda_run_config.environment.python.conda_dependencies = cd"
   ]
  },
  {
   "cell_type": "code",
   "execution_count": 5,
   "metadata": {},
   "outputs": [],
   "source": [
    "target_name_param = PipelineParameter(name=\"target_name\", default_value=\"BOUGHT_CATEGORY_2\")\n",
    "scored_data = PipelineData(name=\"scored_data\", datastore=dstor)\n",
    "dataset_to_score = \"AirliftDataset-Score\"                        "
   ]
  },
  {
   "cell_type": "code",
   "execution_count": 6,
   "metadata": {},
   "outputs": [],
   "source": [
    "score_step = PythonScriptStep(script_name=\"score.py\",\n",
    "                              name=\"score_data\", \n",
    "                              arguments=[\"--model_id\", target_name_param, \"--dataset_to_score\", dataset_to_score, \"--output_scores\", scored_data],\n",
    "                              compute_target=aml_compute_target, \n",
    "                              runconfig=conda_run_config, \n",
    "                              outputs=[scored_data])"
   ]
  },
  {
   "cell_type": "code",
   "execution_count": 7,
   "metadata": {},
   "outputs": [],
   "source": [
    "#tosql_step = DataTransferStep()"
   ]
  },
  {
   "cell_type": "code",
   "execution_count": 9,
   "metadata": {},
   "outputs": [],
   "source": [
    "pipeline = Pipeline(workspace=ws, steps=[score_step])"
   ]
  },
  {
   "cell_type": "code",
   "execution_count": 9,
   "metadata": {},
   "outputs": [
    {
     "name": "stdout",
     "output_type": "stream",
     "text": [
      "Created step score_data [014b8aeb][1fd9e495-ded3-4bc0-b770-c34204f72bfa], (This step will run and generate new outputs)\n",
      "Submitted pipeline run: 43247aee-9c8b-4708-b8e9-022c9e6c136c\n"
     ]
    },
    {
     "data": {
      "text/html": [
       "<table style=\"width:100%\"><tr><th>Experiment</th><th>Id</th><th>Type</th><th>Status</th><th>Details Page</th><th>Docs Page</th></tr><tr><td>airlift</td><td>43247aee-9c8b-4708-b8e9-022c9e6c136c</td><td>azureml.PipelineRun</td><td>NotStarted</td><td><a href=\"https://mlworkspace.azure.ai/portal/subscriptions/5b0bd56f-84b3-4ec2-b7a1-41fd06c7edd3/resourceGroups/azureml/providers/Microsoft.MachineLearningServices/workspaces/dev/experiments/airlift/runs/43247aee-9c8b-4708-b8e9-022c9e6c136c\" target=\"_blank\" rel=\"noopener\">Link to Azure Portal</a></td><td><a href=\"https://docs.microsoft.com/en-us/python/api/overview/azure/ml/intro?view=azure-ml-py\" target=\"_blank\" rel=\"noopener\">Link to Documentation</a></td></tr></table>"
      ],
      "text/plain": [
       "Run(Experiment: airlift,\n",
       "Id: 43247aee-9c8b-4708-b8e9-022c9e6c136c,\n",
       "Type: azureml.PipelineRun,\n",
       "Status: NotStarted)"
      ]
     },
     "execution_count": 9,
     "metadata": {},
     "output_type": "execute_result"
    }
   ],
   "source": [
    "experiment.submit(pipeline, pipeline_params={\"target_name\": \"BOUGHT_CATEGORY_3\"})"
   ]
  }
 ],
 "metadata": {
  "kernelspec": {
   "display_name": "Python 3",
   "language": "python",
   "name": "python3"
  },
  "language_info": {
   "codemirror_mode": {
    "name": "ipython",
    "version": 3
   },
   "file_extension": ".py",
   "mimetype": "text/x-python",
   "name": "python",
   "nbconvert_exporter": "python",
   "pygments_lexer": "ipython3",
   "version": "3.7.3"
  }
 },
 "nbformat": 4,
 "nbformat_minor": 2
}
