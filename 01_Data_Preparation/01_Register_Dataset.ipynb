{
 "cells": [
  {
   "cell_type": "markdown",
   "metadata": {},
   "source": [
    "# Register Dataset\n",
    "\n",
    "In this notebook we register the dataset."
   ]
  },
  {
   "cell_type": "code",
   "execution_count": null,
   "metadata": {},
   "outputs": [],
   "source": [
    "from azureml.core import Workspace, Dataset, Datastore, VERSION\n",
    "from azureml.core.compute import AmlCompute"
   ]
  },
  {
   "cell_type": "code",
   "execution_count": null,
   "metadata": {},
   "outputs": [],
   "source": [
    "VERSION"
   ]
  },
  {
   "cell_type": "code",
   "execution_count": null,
   "metadata": {
    "scrolled": true
   },
   "outputs": [],
   "source": [
    "ws = Workspace.from_config()\n",
    "dstor = ws.datastores['workspaceblobstore']"
   ]
  },
  {
   "cell_type": "code",
   "execution_count": null,
   "metadata": {},
   "outputs": [],
   "source": [
    "ws.get_details()"
   ]
  },
  {
   "cell_type": "code",
   "execution_count": null,
   "metadata": {},
   "outputs": [],
   "source": [
    "ds_train = Dataset.auto_read_files(dstor.path(\"airlift/data-latest.csv\"))\n",
    "ds_score = Dataset.auto_read_files(dstor.path(\"airlift/data-to-score.csv\"))\n",
    "ds_train.head(3)"
   ]
  },
  {
   "cell_type": "code",
   "execution_count": null,
   "metadata": {},
   "outputs": [],
   "source": [
    "ds_train_def = ds_train.get_definition()\n",
    "ds_score_def = ds_score.get_definition()"
   ]
  },
  {
   "cell_type": "code",
   "execution_count": null,
   "metadata": {},
   "outputs": [],
   "source": [
    "ds_train_def = ds_train_def.rename_columns({\"BOUGHT_CATEGORY_FNN\":\"BOUGHT_CATEGORY_1\",\n",
    "                                \"BOUGHT_CATEGORY_WLN\":\"BOUGHT_CATEGORY_2\",\n",
    "                               \"CATEGORY_FNN_CLICKS\":\"CATEGORY_1_CLICKS\",\n",
    "                               \"CATEGORY_WLN_CLICKS\":\"CATEGORY_2_CLICKS\",\n",
    "                               \"CATEGORY_FNN_SPEND\":\"CATEGORY_1_SPEND\",\n",
    "                               \"CATEGORY_WLN_SPEND\":\"CATEGORY_2_SPEND\",\n",
    "                                \"CATEGORY_FNN_COUNT\":\"CATEGORY_1_COUNT\",\n",
    "                               \"CATEGORY_WLN_COUNT\":\"CATEGORY_2_COUNT\"})\n",
    "\n",
    "ds_score_def = ds_score_def.rename_columns({\"CATEGORY_FNN_CLICKS\":\"CATEGORY_1_CLICKS\",\n",
    "                               \"CATEGORY_WLN_CLICKS\":\"CATEGORY_2_CLICKS\",\n",
    "                               \"CATEGORY_FNN_SPEND\":\"CATEGORY_1_SPEND\",\n",
    "                               \"CATEGORY_WLN_SPEND\":\"CATEGORY_2_SPEND\",\n",
    "                                \"CATEGORY_FNN_COUNT\":\"CATEGORY_1_COUNT\",\n",
    "                               \"CATEGORY_WLN_COUNT\":\"CATEGORY_2_COUNT\"})\n",
    "\n",
    "ds_train_def.head(3).columns"
   ]
  },
  {
   "cell_type": "code",
   "execution_count": null,
   "metadata": {
    "scrolled": true
   },
   "outputs": [],
   "source": [
    "ds_train.update_definition(ds_train_def, \"column changes\")\n",
    "ds_score.update_definition(ds_score_def, \"column changes\")\n",
    "ds_train.register(ws, name=\"AirliftDataset-Train\", exist_ok=True)\n",
    "ds_score.register(ws, name=\"AirliftDataset-Score\", exist_ok=True)"
   ]
  },
  {
   "cell_type": "code",
   "execution_count": null,
   "metadata": {},
   "outputs": [],
   "source": [
    "from azureml.core.compute import AmlCompute\n",
    "from azureml.core.compute import ComputeTarget\n",
    "\n",
    "aml_compute = ws.get_default_compute_target(\"CPU\")\n",
    "\n",
    "if aml_compute is None:\n",
    "    amlcompute_cluster_name = \"onenode-cpu\"\n",
    "    provisioning_config = AmlCompute.provisioning_configuration(vm_size = \"STANDARD_D2_V2\",\n",
    "                                                                max_nodes = 1)\n",
    "\n",
    "    aml_compute = ComputeTarget.create(ws, amlcompute_cluster_name, provisioning_config)\n",
    "    aml_compute.wait_for_completion(show_output = True, min_node_count = None, timeout_in_minutes = 20)\n",
    "\n",
    "aml_compute"
   ]
  },
  {
   "cell_type": "code",
   "execution_count": null,
   "metadata": {},
   "outputs": [],
   "source": [
    "from azureml.core.runconfig import RunConfiguration\n",
    "from azureml.core.conda_dependencies import CondaDependencies\n",
    "\n",
    "# Create a new runconfig object\n",
    "aml_run_config = RunConfiguration()\n",
    "\n",
    "# Use the aml_compute you created above. \n",
    "aml_run_config.target = aml_compute\n",
    "\n",
    "# Enable Docker\n",
    "aml_run_config.environment.docker.enabled = True\n",
    "\n",
    "# Set Docker base image to the default CPU-based image\n",
    "aml_run_config.environment.docker.base_image = \"mcr.microsoft.com/azureml/base:0.2.1\"\n",
    "\n",
    "# Use conda_dependencies.yml to create a conda environment in the Docker image for execution\n",
    "aml_run_config.environment.python.user_managed_dependencies = False\n",
    "\n",
    "# Auto-prepare the Docker image when used for execution (if it is not already prepared)\n",
    "aml_run_config.auto_prepare_environment = True\n",
    "\n",
    "# Specify CondaDependencies obj, add necessary packages\n",
    "aml_run_config.environment.python.conda_dependencies = CondaDependencies.create(\n",
    "    conda_packages=['pandas','scikit-learn'], \n",
    "    pip_packages=['azureml-sdk', 'azureml-dataprep', 'azureml-train-automl'], \n",
    "    pin_sdk_version=False)\n",
    "\n",
    "print (\"Run configuration created.\")"
   ]
  },
  {
   "cell_type": "code",
   "execution_count": null,
   "metadata": {},
   "outputs": [],
   "source": [
    "ct = AmlCompute(ws, \"onenode-cpu\")\n",
    "ds_train.generate_profile(ct, workspace=ws)\n",
    "ds_score.generate_profile(ct, workspace=ws)"
   ]
  },
  {
   "cell_type": "code",
   "execution_count": null,
   "metadata": {},
   "outputs": [],
   "source": []
  }
 ],
 "metadata": {
  "kernelspec": {
   "display_name": "Python 3",
   "language": "python",
   "name": "python3"
  },
  "language_info": {
   "codemirror_mode": {
    "name": "ipython",
    "version": 3
   },
   "file_extension": ".py",
   "mimetype": "text/x-python",
   "name": "python",
   "nbconvert_exporter": "python",
   "pygments_lexer": "ipython3",
   "version": "3.7.3"
  }
 },
 "nbformat": 4,
 "nbformat_minor": 2
}
