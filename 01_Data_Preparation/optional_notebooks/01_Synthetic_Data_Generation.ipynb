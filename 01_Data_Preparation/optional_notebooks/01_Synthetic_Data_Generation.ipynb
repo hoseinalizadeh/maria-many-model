{
 "cells": [
  {
   "cell_type": "markdown",
   "metadata": {},
   "source": [
    "Copyright (c) Microsoft Corporation. All rights reserved.\n",
    "\n",
    "Licensed under the MIT License."
   ]
  },
  {
   "cell_type": "markdown",
   "metadata": {},
   "source": [
    "![Impressions](https://PixelServer20190423114238.azurewebsites.net/api/impressions/MachineLearningNotebooks/how-to-use-azureml/automated-machine-learning/forecasting-orange-juice-sales/auto-ml-forecasting-orange-juice-sales.png)"
   ]
  },
  {
   "cell_type": "markdown",
   "metadata": {},
   "source": [
    "# Synthetic Data Generation\n",
    "In this notebook, we are generating a large data set to demonstrate the capabilities of the ParallelRunStep. The dataset is from the Univeristy of Chicago’s Dominick’s Finer Foods for orange juice sales. Dominick's is a grocery chain in the Chicago metropolitan area. The original data has ~130 stores. We generated an additional 4,000 stores. \n",
    "\n",
    "We synthetically generate a total of 12,222 orange juice sales datasets and leverage ParallelRunStep to build many models to predict the quantity/revenue per store per brand. Each dataset contains ~120 rows with over 2 years data. \n",
    "\n",
    "- [ParallelRunStep Documentation](https://docs.microsoft.com/en-us/python/api/azureml-contrib-pipeline-steps/azureml.contrib.pipeline.steps.parallelrunstep?view=azure-ml-py)"
   ]
  },
  {
   "cell_type": "markdown",
   "metadata": {},
   "source": [
    "## Setup"
   ]
  },
  {
   "cell_type": "markdown",
   "metadata": {},
   "source": [
    "From the 00_Setup_Env notebook, you've set up a AML Workspace where we will build our pipelines."
   ]
  },
  {
   "cell_type": "code",
   "execution_count": 2,
   "metadata": {},
   "outputs": [],
   "source": [
    "import azureml.core\n",
    "import pandas as pd\n",
    "import numpy as np\n",
    "import logging\n",
    "import random\n",
    "\n",
    "from azureml.core.workspace import Workspace\n",
    "from azureml.core.experiment import Experiment\n",
    "from azureml.train.automl import AutoMLConfig\n",
    "from azureml.core.compute import AmlCompute\n",
    "from azureml.core.compute import ComputeTarget\n",
    "from azureml.core.dataset import Dataset"
   ]
  },
  {
   "cell_type": "code",
   "execution_count": 2,
   "metadata": {},
   "outputs": [
    {
     "data": {
      "text/html": [
       "<div>\n",
       "<style scoped>\n",
       "    .dataframe tbody tr th:only-of-type {\n",
       "        vertical-align: middle;\n",
       "    }\n",
       "\n",
       "    .dataframe tbody tr th {\n",
       "        vertical-align: top;\n",
       "    }\n",
       "\n",
       "    .dataframe thead th {\n",
       "        text-align: right;\n",
       "    }\n",
       "</style>\n",
       "<table border=\"1\" class=\"dataframe\">\n",
       "  <thead>\n",
       "    <tr style=\"text-align: right;\">\n",
       "      <th></th>\n",
       "      <th></th>\n",
       "    </tr>\n",
       "  </thead>\n",
       "  <tbody>\n",
       "    <tr>\n",
       "      <th>SDK version</th>\n",
       "      <td>1.0.74</td>\n",
       "    </tr>\n",
       "    <tr>\n",
       "      <th>Subscription ID</th>\n",
       "      <td>bbd86e7d-3602-4e6d-baa4-40ae2ad9303c</td>\n",
       "    </tr>\n",
       "    <tr>\n",
       "      <th>Workspace</th>\n",
       "      <td>ManyModelsSAv1</td>\n",
       "    </tr>\n",
       "    <tr>\n",
       "      <th>SKU</th>\n",
       "      <td>Enterprise</td>\n",
       "    </tr>\n",
       "    <tr>\n",
       "      <th>Resource Group</th>\n",
       "      <td>ManyModelsSA</td>\n",
       "    </tr>\n",
       "    <tr>\n",
       "      <th>Location</th>\n",
       "      <td>centralus</td>\n",
       "    </tr>\n",
       "    <tr>\n",
       "      <th>Run History Name</th>\n",
       "      <td>automl-ojforecasting</td>\n",
       "    </tr>\n",
       "  </tbody>\n",
       "</table>\n",
       "</div>"
      ],
      "text/plain": [
       "                                                      \n",
       "SDK version       1.0.74                              \n",
       "Subscription ID   bbd86e7d-3602-4e6d-baa4-40ae2ad9303c\n",
       "Workspace         ManyModelsSAv1                      \n",
       "SKU               Enterprise                          \n",
       "Resource Group    ManyModelsSA                        \n",
       "Location          centralus                           \n",
       "Run History Name  automl-ojforecasting                "
      ]
     },
     "execution_count": 2,
     "metadata": {},
     "output_type": "execute_result"
    }
   ],
   "source": [
    "ws = Workspace(subscription_id=\"bbd86e7d-3602-4e6d-baa4-40ae2ad9303c\", resource_group=\"ManyModelsSA\", workspace_name=\"ManyModelsSAv1\")\n",
    "ws.get_details()\n",
    "\n",
    "experiment_name = 'automl-ojforecasting'\n",
    "experiment = Experiment(ws, experiment_name)\n",
    "\n",
    "output = {}\n",
    "output['SDK version'] = azureml.core.VERSION\n",
    "output['Subscription ID'] = ws.subscription_id\n",
    "output['Workspace'] = ws.name\n",
    "output['SKU'] = ws.sku\n",
    "output['Resource Group'] = ws.resource_group\n",
    "output['Location'] = ws.location\n",
    "output['Run History Name'] = experiment_name\n",
    "pd.set_option('display.max_colwidth', -1)\n",
    "outputDf = pd.DataFrame(data = output, index = [''])\n",
    "outputDf.T"
   ]
  },
  {
   "cell_type": "markdown",
   "metadata": {},
   "source": [
    "## Compute\n",
    "\n",
    "#### Creation of AmlCompute takes approximately 5 minutes. \n",
    "If the AmlCompute with that name is already in your workspace this code will skip the creation process.\n",
    "As with other Azure services, there are limits on certain resources (e.g. AmlCompute) associated with the Azure Machine Learning service. Please read this article on the default limits and how to request more quota."
   ]
  },
  {
   "cell_type": "code",
   "execution_count": 5,
   "metadata": {},
   "outputs": [
    {
     "name": "stdout",
     "output_type": "stream",
     "text": [
      "Found existing compute target.\n",
      "Checking cluster status...\n",
      "Succeeded\n",
      "AmlCompute wait for completion finished\n",
      "Minimum number of nodes requested have been provisioned\n"
     ]
    }
   ],
   "source": [
    "\n",
    "# Choose a name for your cluster.\n",
    "amlcompute_cluster_name = \"cpu-cluster\"\n",
    "\n",
    "found = False\n",
    "# Check if this compute target already exists in the workspace.\n",
    "cts = ws.compute_targets\n",
    "if amlcompute_cluster_name in cts and cts[amlcompute_cluster_name].type == 'AmlCompute':\n",
    "    found = True\n",
    "    print('Found existing compute target.')\n",
    "    compute_target = cts[amlcompute_cluster_name]\n",
    "    \n",
    "if not found:\n",
    "    print('Creating a new compute target...')\n",
    "    provisioning_config = AmlCompute.provisioning_configuration(vm_size = \"STANDARD_D2_V2\", # for GPU, use \"STANDARD_NC6\"\n",
    "                                                                #vm_priority = 'lowpriority', # optional\n",
    "                                                                max_nodes = 6)\n",
    "\n",
    "    # Create the cluster.\n",
    "    compute_target = ComputeTarget.create(ws, amlcompute_cluster_name, provisioning_config)\n",
    "    \n",
    "print('Checking cluster status...')\n",
    "# Can poll for a minimum number of nodes and for a specific timeout.\n",
    "# If no min_node_count is provided, it will use the scale settings for the cluster.\n",
    "compute_target.wait_for_completion(show_output = True, min_node_count = None, timeout_in_minutes = 20)\n",
    "    \n",
    "# For a more detailed view of current AmlCompute status, use get_status()."
   ]
  },
  {
   "cell_type": "markdown",
   "metadata": {},
   "source": [
    "## Upload the raw data to the blob"
   ]
  },
  {
   "cell_type": "markdown",
   "metadata": {},
   "source": [
    "Initially, we uploaded the raw data to blob storage from the local directory."
   ]
  },
  {
   "cell_type": "code",
   "execution_count": 18,
   "metadata": {},
   "outputs": [],
   "source": [
    "dataDir='raw_data/'\n",
    "ojsalesraw_path=dataDir+'dominicks_OJ.csv'"
   ]
  },
  {
   "cell_type": "code",
   "execution_count": 19,
   "metadata": {
    "scrolled": true
   },
   "outputs": [
    {
     "name": "stdout",
     "output_type": "stream",
     "text": [
      "Uploading an estimated of 1 files\n",
      "Target already exists. Skipping upload for ojsalesraw/dominicks_OJ.csv\n",
      "Uploaded 0 files\n"
     ]
    },
    {
     "data": {
      "text/plain": [
       "$AZUREML_DATAREFERENCE_f5d895badb8848bda3be455b450efef0"
      ]
     },
     "execution_count": 19,
     "metadata": {},
     "output_type": "execute_result"
    }
   ],
   "source": [
    "datastore = ws.get_default_datastore() \n",
    "datastore.upload_files([ojsalesraw_path], target_path='ojsalesraw', overwrite=False, show_progress=True)"
   ]
  },
  {
   "cell_type": "markdown",
   "metadata": {},
   "source": [
    "## Dowloand the data from the blob"
   ]
  },
  {
   "cell_type": "markdown",
   "metadata": {},
   "source": [
    "If you have the data in a blob container, you can download it to your local directory."
   ]
  },
  {
   "cell_type": "code",
   "execution_count": 22,
   "metadata": {},
   "outputs": [
    {
     "name": "stderr",
     "output_type": "stream",
     "text": [
      "WARNING - Path already exists. Skipping download for raw_data/ojsalesraw/dominicks_OJ.csv\n"
     ]
    },
    {
     "data": {
      "text/plain": [
       "0"
      ]
     },
     "execution_count": 22,
     "metadata": {},
     "output_type": "execute_result"
    }
   ],
   "source": [
    "download_target_path = 'raw_data/'\n",
    "datastore.download(target_path=download_target_path,\n",
    "                   prefix='ojsalesraw/dominicks_OJ.csv',\n",
    "                   show_progress=True)"
   ]
  },
  {
   "cell_type": "markdown",
   "metadata": {},
   "source": [
    "## (Optional) Register dataset "
   ]
  },
  {
   "cell_type": "markdown",
   "metadata": {},
   "source": [
    "Register the dataset to the Workspace if needed. We skipped this step because we have ~12,000 datasets and we upload all our datasets into a blob container."
   ]
  },
  {
   "cell_type": "code",
   "execution_count": 24,
   "metadata": {},
   "outputs": [],
   "source": [
    "\n",
    "datastore_paths = [\n",
    "                  (datastore, 'ojsalesraw')\n",
    "                 ]\n",
    "ojsalesraw_ds = Dataset.File.from_files(path=datastore_paths)"
   ]
  },
  {
   "cell_type": "code",
   "execution_count": 27,
   "metadata": {},
   "outputs": [],
   "source": [
    "ojsalesraw_ds = ojsalesraw_ds.register(workspace=ws, \n",
    "                                       name='ojsalesraw', \n",
    "                                       description='ojsales raw data')"
   ]
  },
  {
   "cell_type": "markdown",
   "metadata": {},
   "source": [
    "## Synthetic data generation"
   ]
  },
  {
   "cell_type": "markdown",
   "metadata": {},
   "source": [
    "we are creating ~4,000 stores for the 2 years of the original dataset with columns Brand, Price, Advert, and Quantity."
   ]
  },
  {
   "cell_type": "code",
   "execution_count": 3,
   "metadata": {},
   "outputs": [
    {
     "data": {
      "text/html": [
       "<div>\n",
       "<style scoped>\n",
       "    .dataframe tbody tr th:only-of-type {\n",
       "        vertical-align: middle;\n",
       "    }\n",
       "\n",
       "    .dataframe tbody tr th {\n",
       "        vertical-align: top;\n",
       "    }\n",
       "\n",
       "    .dataframe thead th {\n",
       "        text-align: right;\n",
       "    }\n",
       "</style>\n",
       "<table border=\"1\" class=\"dataframe\">\n",
       "  <thead>\n",
       "    <tr style=\"text-align: right;\">\n",
       "      <th></th>\n",
       "      <th>WeekStarting</th>\n",
       "      <th>Store</th>\n",
       "      <th>Brand</th>\n",
       "      <th>Quantity</th>\n",
       "      <th>logQuantity</th>\n",
       "      <th>Advert</th>\n",
       "      <th>Price</th>\n",
       "      <th>Age60</th>\n",
       "      <th>COLLEGE</th>\n",
       "      <th>INCOME</th>\n",
       "      <th>Hincome150</th>\n",
       "      <th>Large HH</th>\n",
       "      <th>Minorities</th>\n",
       "      <th>WorkingWoman</th>\n",
       "      <th>SSTRDIST</th>\n",
       "      <th>SSTRVOL</th>\n",
       "      <th>CPDIST5</th>\n",
       "      <th>CPWVOL5</th>\n",
       "    </tr>\n",
       "  </thead>\n",
       "  <tbody>\n",
       "    <tr>\n",
       "      <th>0</th>\n",
       "      <td>1990-06-14</td>\n",
       "      <td>2</td>\n",
       "      <td>dominicks</td>\n",
       "      <td>10560</td>\n",
       "      <td>9.26</td>\n",
       "      <td>1</td>\n",
       "      <td>1.59</td>\n",
       "      <td>0.23</td>\n",
       "      <td>0.25</td>\n",
       "      <td>10.55</td>\n",
       "      <td>0.46</td>\n",
       "      <td>0.10</td>\n",
       "      <td>0.11</td>\n",
       "      <td>0.30</td>\n",
       "      <td>2.11</td>\n",
       "      <td>1.14</td>\n",
       "      <td>1.93</td>\n",
       "      <td>0.38</td>\n",
       "    </tr>\n",
       "    <tr>\n",
       "      <th>1</th>\n",
       "      <td>1990-06-14</td>\n",
       "      <td>2</td>\n",
       "      <td>minute.maid</td>\n",
       "      <td>4480</td>\n",
       "      <td>8.41</td>\n",
       "      <td>0</td>\n",
       "      <td>3.17</td>\n",
       "      <td>0.23</td>\n",
       "      <td>0.25</td>\n",
       "      <td>10.55</td>\n",
       "      <td>0.46</td>\n",
       "      <td>0.10</td>\n",
       "      <td>0.11</td>\n",
       "      <td>0.30</td>\n",
       "      <td>2.11</td>\n",
       "      <td>1.14</td>\n",
       "      <td>1.93</td>\n",
       "      <td>0.38</td>\n",
       "    </tr>\n",
       "    <tr>\n",
       "      <th>2</th>\n",
       "      <td>1990-06-14</td>\n",
       "      <td>2</td>\n",
       "      <td>tropicana</td>\n",
       "      <td>8256</td>\n",
       "      <td>9.02</td>\n",
       "      <td>0</td>\n",
       "      <td>3.87</td>\n",
       "      <td>0.23</td>\n",
       "      <td>0.25</td>\n",
       "      <td>10.55</td>\n",
       "      <td>0.46</td>\n",
       "      <td>0.10</td>\n",
       "      <td>0.11</td>\n",
       "      <td>0.30</td>\n",
       "      <td>2.11</td>\n",
       "      <td>1.14</td>\n",
       "      <td>1.93</td>\n",
       "      <td>0.38</td>\n",
       "    </tr>\n",
       "    <tr>\n",
       "      <th>3</th>\n",
       "      <td>1990-06-14</td>\n",
       "      <td>5</td>\n",
       "      <td>dominicks</td>\n",
       "      <td>1792</td>\n",
       "      <td>7.49</td>\n",
       "      <td>1</td>\n",
       "      <td>1.59</td>\n",
       "      <td>0.12</td>\n",
       "      <td>0.32</td>\n",
       "      <td>10.92</td>\n",
       "      <td>0.54</td>\n",
       "      <td>0.10</td>\n",
       "      <td>0.05</td>\n",
       "      <td>0.41</td>\n",
       "      <td>3.80</td>\n",
       "      <td>0.68</td>\n",
       "      <td>1.60</td>\n",
       "      <td>0.74</td>\n",
       "    </tr>\n",
       "    <tr>\n",
       "      <th>4</th>\n",
       "      <td>1990-06-14</td>\n",
       "      <td>5</td>\n",
       "      <td>minute.maid</td>\n",
       "      <td>4224</td>\n",
       "      <td>8.35</td>\n",
       "      <td>0</td>\n",
       "      <td>2.99</td>\n",
       "      <td>0.12</td>\n",
       "      <td>0.32</td>\n",
       "      <td>10.92</td>\n",
       "      <td>0.54</td>\n",
       "      <td>0.10</td>\n",
       "      <td>0.05</td>\n",
       "      <td>0.41</td>\n",
       "      <td>3.80</td>\n",
       "      <td>0.68</td>\n",
       "      <td>1.60</td>\n",
       "      <td>0.74</td>\n",
       "    </tr>\n",
       "  </tbody>\n",
       "</table>\n",
       "</div>"
      ],
      "text/plain": [
       "  WeekStarting  Store        Brand  Quantity  logQuantity  Advert  Price  \\\n",
       "0 1990-06-14    2      dominicks    10560    9.26          1      1.59     \n",
       "1 1990-06-14    2      minute.maid  4480     8.41          0      3.17     \n",
       "2 1990-06-14    2      tropicana    8256     9.02          0      3.87     \n",
       "3 1990-06-14    5      dominicks    1792     7.49          1      1.59     \n",
       "4 1990-06-14    5      minute.maid  4224     8.35          0      2.99     \n",
       "\n",
       "   Age60  COLLEGE  INCOME  Hincome150  Large HH  Minorities  WorkingWoman  \\\n",
       "0 0.23   0.25     10.55   0.46        0.10      0.11        0.30            \n",
       "1 0.23   0.25     10.55   0.46        0.10      0.11        0.30            \n",
       "2 0.23   0.25     10.55   0.46        0.10      0.11        0.30            \n",
       "3 0.12   0.32     10.92   0.54        0.10      0.05        0.41            \n",
       "4 0.12   0.32     10.92   0.54        0.10      0.05        0.41            \n",
       "\n",
       "   SSTRDIST  SSTRVOL  CPDIST5  CPWVOL5  \n",
       "0 2.11      1.14     1.93     0.38      \n",
       "1 2.11      1.14     1.93     0.38      \n",
       "2 2.11      1.14     1.93     0.38      \n",
       "3 3.80      0.68     1.60     0.74      \n",
       "4 3.80      0.68     1.60     0.74      "
      ]
     },
     "execution_count": 3,
     "metadata": {},
     "output_type": "execute_result"
    }
   ],
   "source": [
    "time_column_name = 'WeekStarting'\n",
    "data = pd.read_csv(\"./raw_data/dominicks_OJ.csv\", parse_dates=[time_column_name])\n",
    "data.head()"
   ]
  },
  {
   "cell_type": "code",
   "execution_count": 4,
   "metadata": {},
   "outputs": [
    {
     "data": {
      "text/html": [
       "<div>\n",
       "<style scoped>\n",
       "    .dataframe tbody tr th:only-of-type {\n",
       "        vertical-align: middle;\n",
       "    }\n",
       "\n",
       "    .dataframe tbody tr th {\n",
       "        vertical-align: top;\n",
       "    }\n",
       "\n",
       "    .dataframe thead th {\n",
       "        text-align: right;\n",
       "    }\n",
       "</style>\n",
       "<table border=\"1\" class=\"dataframe\">\n",
       "  <thead>\n",
       "    <tr style=\"text-align: right;\">\n",
       "      <th></th>\n",
       "      <th>Store</th>\n",
       "      <th>Quantity</th>\n",
       "      <th>logQuantity</th>\n",
       "      <th>Advert</th>\n",
       "      <th>Price</th>\n",
       "      <th>Age60</th>\n",
       "      <th>COLLEGE</th>\n",
       "      <th>INCOME</th>\n",
       "      <th>Hincome150</th>\n",
       "      <th>Large HH</th>\n",
       "      <th>Minorities</th>\n",
       "      <th>WorkingWoman</th>\n",
       "      <th>SSTRDIST</th>\n",
       "      <th>SSTRVOL</th>\n",
       "      <th>CPDIST5</th>\n",
       "      <th>CPWVOL5</th>\n",
       "    </tr>\n",
       "  </thead>\n",
       "  <tbody>\n",
       "    <tr>\n",
       "      <th>count</th>\n",
       "      <td>28947.00</td>\n",
       "      <td>28947.00</td>\n",
       "      <td>28947.00</td>\n",
       "      <td>28947.00</td>\n",
       "      <td>28947.00</td>\n",
       "      <td>28947.00</td>\n",
       "      <td>28947.00</td>\n",
       "      <td>28947.00</td>\n",
       "      <td>28947.00</td>\n",
       "      <td>28947.00</td>\n",
       "      <td>28947.00</td>\n",
       "      <td>28947.00</td>\n",
       "      <td>28947.00</td>\n",
       "      <td>28947.00</td>\n",
       "      <td>28947.00</td>\n",
       "      <td>28947.00</td>\n",
       "    </tr>\n",
       "    <tr>\n",
       "      <th>mean</th>\n",
       "      <td>80.88</td>\n",
       "      <td>17312.21</td>\n",
       "      <td>9.17</td>\n",
       "      <td>0.24</td>\n",
       "      <td>2.28</td>\n",
       "      <td>0.17</td>\n",
       "      <td>0.23</td>\n",
       "      <td>10.62</td>\n",
       "      <td>0.34</td>\n",
       "      <td>0.12</td>\n",
       "      <td>0.16</td>\n",
       "      <td>0.36</td>\n",
       "      <td>5.10</td>\n",
       "      <td>1.21</td>\n",
       "      <td>2.12</td>\n",
       "      <td>0.44</td>\n",
       "    </tr>\n",
       "    <tr>\n",
       "      <th>std</th>\n",
       "      <td>35.58</td>\n",
       "      <td>27477.66</td>\n",
       "      <td>1.02</td>\n",
       "      <td>0.43</td>\n",
       "      <td>0.65</td>\n",
       "      <td>0.06</td>\n",
       "      <td>0.11</td>\n",
       "      <td>0.28</td>\n",
       "      <td>0.24</td>\n",
       "      <td>0.03</td>\n",
       "      <td>0.19</td>\n",
       "      <td>0.05</td>\n",
       "      <td>3.47</td>\n",
       "      <td>0.53</td>\n",
       "      <td>0.73</td>\n",
       "      <td>0.22</td>\n",
       "    </tr>\n",
       "    <tr>\n",
       "      <th>min</th>\n",
       "      <td>2.00</td>\n",
       "      <td>64.00</td>\n",
       "      <td>4.16</td>\n",
       "      <td>0.00</td>\n",
       "      <td>0.52</td>\n",
       "      <td>0.06</td>\n",
       "      <td>0.05</td>\n",
       "      <td>9.87</td>\n",
       "      <td>0.00</td>\n",
       "      <td>0.01</td>\n",
       "      <td>0.02</td>\n",
       "      <td>0.24</td>\n",
       "      <td>0.13</td>\n",
       "      <td>0.40</td>\n",
       "      <td>0.77</td>\n",
       "      <td>0.09</td>\n",
       "    </tr>\n",
       "    <tr>\n",
       "      <th>25%</th>\n",
       "      <td>53.00</td>\n",
       "      <td>4864.00</td>\n",
       "      <td>8.49</td>\n",
       "      <td>0.00</td>\n",
       "      <td>1.79</td>\n",
       "      <td>0.12</td>\n",
       "      <td>0.15</td>\n",
       "      <td>10.46</td>\n",
       "      <td>0.12</td>\n",
       "      <td>0.10</td>\n",
       "      <td>0.04</td>\n",
       "      <td>0.31</td>\n",
       "      <td>2.77</td>\n",
       "      <td>0.73</td>\n",
       "      <td>1.63</td>\n",
       "      <td>0.27</td>\n",
       "    </tr>\n",
       "    <tr>\n",
       "      <th>50%</th>\n",
       "      <td>86.00</td>\n",
       "      <td>8384.00</td>\n",
       "      <td>9.03</td>\n",
       "      <td>0.00</td>\n",
       "      <td>2.17</td>\n",
       "      <td>0.17</td>\n",
       "      <td>0.23</td>\n",
       "      <td>10.64</td>\n",
       "      <td>0.35</td>\n",
       "      <td>0.11</td>\n",
       "      <td>0.07</td>\n",
       "      <td>0.36</td>\n",
       "      <td>4.65</td>\n",
       "      <td>1.12</td>\n",
       "      <td>1.96</td>\n",
       "      <td>0.38</td>\n",
       "    </tr>\n",
       "    <tr>\n",
       "      <th>75%</th>\n",
       "      <td>111.00</td>\n",
       "      <td>17408.00</td>\n",
       "      <td>9.76</td>\n",
       "      <td>0.00</td>\n",
       "      <td>2.73</td>\n",
       "      <td>0.21</td>\n",
       "      <td>0.28</td>\n",
       "      <td>10.80</td>\n",
       "      <td>0.53</td>\n",
       "      <td>0.14</td>\n",
       "      <td>0.19</td>\n",
       "      <td>0.40</td>\n",
       "      <td>6.65</td>\n",
       "      <td>1.54</td>\n",
       "      <td>2.53</td>\n",
       "      <td>0.56</td>\n",
       "    </tr>\n",
       "    <tr>\n",
       "      <th>max</th>\n",
       "      <td>137.00</td>\n",
       "      <td>716416.00</td>\n",
       "      <td>13.48</td>\n",
       "      <td>1.00</td>\n",
       "      <td>3.87</td>\n",
       "      <td>0.31</td>\n",
       "      <td>0.53</td>\n",
       "      <td>11.24</td>\n",
       "      <td>0.92</td>\n",
       "      <td>0.22</td>\n",
       "      <td>1.00</td>\n",
       "      <td>0.47</td>\n",
       "      <td>17.86</td>\n",
       "      <td>2.57</td>\n",
       "      <td>4.11</td>\n",
       "      <td>1.14</td>\n",
       "    </tr>\n",
       "  </tbody>\n",
       "</table>\n",
       "</div>"
      ],
      "text/plain": [
       "         Store  Quantity  logQuantity   Advert    Price    Age60  COLLEGE  \\\n",
       "count 28947.00 28947.00  28947.00     28947.00 28947.00 28947.00 28947.00   \n",
       "mean  80.88    17312.21  9.17         0.24     2.28     0.17     0.23       \n",
       "std   35.58    27477.66  1.02         0.43     0.65     0.06     0.11       \n",
       "min   2.00     64.00     4.16         0.00     0.52     0.06     0.05       \n",
       "25%   53.00    4864.00   8.49         0.00     1.79     0.12     0.15       \n",
       "50%   86.00    8384.00   9.03         0.00     2.17     0.17     0.23       \n",
       "75%   111.00   17408.00  9.76         0.00     2.73     0.21     0.28       \n",
       "max   137.00   716416.00 13.48        1.00     3.87     0.31     0.53       \n",
       "\n",
       "        INCOME  Hincome150  Large HH  Minorities  WorkingWoman  SSTRDIST  \\\n",
       "count 28947.00 28947.00    28947.00  28947.00    28947.00      28947.00    \n",
       "mean  10.62    0.34        0.12      0.16        0.36          5.10        \n",
       "std   0.28     0.24        0.03      0.19        0.05          3.47        \n",
       "min   9.87     0.00        0.01      0.02        0.24          0.13        \n",
       "25%   10.46    0.12        0.10      0.04        0.31          2.77        \n",
       "50%   10.64    0.35        0.11      0.07        0.36          4.65        \n",
       "75%   10.80    0.53        0.14      0.19        0.40          6.65        \n",
       "max   11.24    0.92        0.22      1.00        0.47          17.86       \n",
       "\n",
       "       SSTRVOL  CPDIST5  CPWVOL5  \n",
       "count 28947.00 28947.00 28947.00  \n",
       "mean  1.21     2.12     0.44      \n",
       "std   0.53     0.73     0.22      \n",
       "min   0.40     0.77     0.09      \n",
       "25%   0.73     1.63     0.27      \n",
       "50%   1.12     1.96     0.38      \n",
       "75%   1.54     2.53     0.56      \n",
       "max   2.57     4.11     1.14      "
      ]
     },
     "execution_count": 4,
     "metadata": {},
     "output_type": "execute_result"
    }
   ],
   "source": [
    "data.describe()"
   ]
  },
  {
   "cell_type": "markdown",
   "metadata": {},
   "source": [
    "The original dataset's date range is from 1990-06-13 to 1992-10-02. We will generate the same date range and repeat that list for each store."
   ]
  },
  {
   "cell_type": "code",
   "execution_count": 3,
   "metadata": {},
   "outputs": [
    {
     "data": {
      "text/html": [
       "<div>\n",
       "<style scoped>\n",
       "    .dataframe tbody tr th:only-of-type {\n",
       "        vertical-align: middle;\n",
       "    }\n",
       "\n",
       "    .dataframe tbody tr th {\n",
       "        vertical-align: top;\n",
       "    }\n",
       "\n",
       "    .dataframe thead th {\n",
       "        text-align: right;\n",
       "    }\n",
       "</style>\n",
       "<table border=\"1\" class=\"dataframe\">\n",
       "  <thead>\n",
       "    <tr style=\"text-align: right;\">\n",
       "      <th></th>\n",
       "      <th>WeekStarting</th>\n",
       "    </tr>\n",
       "  </thead>\n",
       "  <tbody>\n",
       "    <tr>\n",
       "      <th>0</th>\n",
       "      <td>1990-06-14</td>\n",
       "    </tr>\n",
       "    <tr>\n",
       "      <th>1</th>\n",
       "      <td>1990-06-14</td>\n",
       "    </tr>\n",
       "    <tr>\n",
       "      <th>2</th>\n",
       "      <td>1990-06-14</td>\n",
       "    </tr>\n",
       "    <tr>\n",
       "      <th>3</th>\n",
       "      <td>1990-06-14</td>\n",
       "    </tr>\n",
       "    <tr>\n",
       "      <th>4</th>\n",
       "      <td>1990-06-14</td>\n",
       "    </tr>\n",
       "  </tbody>\n",
       "</table>\n",
       "</div>"
      ],
      "text/plain": [
       "  WeekStarting\n",
       "0   1990-06-14\n",
       "1   1990-06-14\n",
       "2   1990-06-14\n",
       "3   1990-06-14\n",
       "4   1990-06-14"
      ]
     },
     "execution_count": 3,
     "metadata": {},
     "output_type": "execute_result"
    }
   ],
   "source": [
    "dates = pd.date_range(start ='1990-06-13', end ='1992-10-02', freq ='W-THU') \n",
    "dates_df = pd.DataFrame(data=dates)\n",
    "dates_df_all = pd.DataFrame({'WeekStarting':np.repeat(dates_df.values,11973)})\n",
    "dates_df_all.head()"
   ]
  },
  {
   "cell_type": "markdown",
   "metadata": {},
   "source": [
    "The original dataset's brands are dominicks, minute.maid, and tropicana. We will generate the same brands and repeat that list for each store."
   ]
  },
  {
   "cell_type": "code",
   "execution_count": 4,
   "metadata": {},
   "outputs": [
    {
     "data": {
      "text/html": [
       "<div>\n",
       "<style scoped>\n",
       "    .dataframe tbody tr th:only-of-type {\n",
       "        vertical-align: middle;\n",
       "    }\n",
       "\n",
       "    .dataframe tbody tr th {\n",
       "        vertical-align: top;\n",
       "    }\n",
       "\n",
       "    .dataframe thead th {\n",
       "        text-align: right;\n",
       "    }\n",
       "</style>\n",
       "<table border=\"1\" class=\"dataframe\">\n",
       "  <thead>\n",
       "    <tr style=\"text-align: right;\">\n",
       "      <th></th>\n",
       "      <th>Brand</th>\n",
       "    </tr>\n",
       "  </thead>\n",
       "  <tbody>\n",
       "    <tr>\n",
       "      <th>0</th>\n",
       "      <td>dominicks</td>\n",
       "    </tr>\n",
       "    <tr>\n",
       "      <th>1</th>\n",
       "      <td>minute.maid</td>\n",
       "    </tr>\n",
       "    <tr>\n",
       "      <th>2</th>\n",
       "      <td>tropicana</td>\n",
       "    </tr>\n",
       "    <tr>\n",
       "      <th>3</th>\n",
       "      <td>dominicks</td>\n",
       "    </tr>\n",
       "    <tr>\n",
       "      <th>4</th>\n",
       "      <td>minute.maid</td>\n",
       "    </tr>\n",
       "  </tbody>\n",
       "</table>\n",
       "</div>"
      ],
      "text/plain": [
       "         Brand\n",
       "0    dominicks\n",
       "1  minute.maid\n",
       "2    tropicana\n",
       "3    dominicks\n",
       "4  minute.maid"
      ]
     },
     "execution_count": 4,
     "metadata": {},
     "output_type": "execute_result"
    }
   ],
   "source": [
    "brand_data={'Brand':['dominicks', 'minute.maid', 'tropicana']}\n",
    "brands_list = pd.DataFrame(data=brand_data)\n",
    "brands_df_all = pd.DataFrame()\n",
    "brands_df_all = pd.concat([brands_list]*482911, ignore_index=True)\n",
    "brands_df_all.head()"
   ]
  },
  {
   "cell_type": "markdown",
   "metadata": {},
   "source": [
    "The store number is generated from the range of 138 to 4129 with increment of 1 to produce 3991 unique store numbers."
   ]
  },
  {
   "cell_type": "code",
   "execution_count": 9,
   "metadata": {},
   "outputs": [
    {
     "data": {
      "text/plain": [
       "array([  2,   5,   8,   9,  14,  18,  21,  28,  32,  33,  40,  44,  45,\n",
       "        47,  48,  49,  50,  51,  52,  53,  54,  56,  59,  62,  64,  67,\n",
       "        68,  70,  71,  72,  73,  75,  76,  77,  78,  80,  81,  83,  84,\n",
       "        86,  88,  89,  90,  91,  92,  93,  94,  97, 101, 103, 104, 105,\n",
       "       106, 107, 109, 110, 111, 112, 113, 114, 115, 116, 117, 118, 119,\n",
       "       121, 122, 123, 124, 126, 128, 129, 132,  12,  74,  95,  98, 130,\n",
       "       100, 102, 131, 137, 134])"
      ]
     },
     "execution_count": 9,
     "metadata": {},
     "output_type": "execute_result"
    }
   ],
   "source": [
    "data.Store.unique()"
   ]
  },
  {
   "cell_type": "code",
   "execution_count": 5,
   "metadata": {},
   "outputs": [
    {
     "data": {
      "text/html": [
       "<div>\n",
       "<style scoped>\n",
       "    .dataframe tbody tr th:only-of-type {\n",
       "        vertical-align: middle;\n",
       "    }\n",
       "\n",
       "    .dataframe tbody tr th {\n",
       "        vertical-align: top;\n",
       "    }\n",
       "\n",
       "    .dataframe thead th {\n",
       "        text-align: right;\n",
       "    }\n",
       "</style>\n",
       "<table border=\"1\" class=\"dataframe\">\n",
       "  <thead>\n",
       "    <tr style=\"text-align: right;\">\n",
       "      <th></th>\n",
       "      <th>Store</th>\n",
       "    </tr>\n",
       "  </thead>\n",
       "  <tbody>\n",
       "    <tr>\n",
       "      <th>0</th>\n",
       "      <td>138</td>\n",
       "    </tr>\n",
       "    <tr>\n",
       "      <th>1</th>\n",
       "      <td>138</td>\n",
       "    </tr>\n",
       "    <tr>\n",
       "      <th>2</th>\n",
       "      <td>138</td>\n",
       "    </tr>\n",
       "    <tr>\n",
       "      <th>3</th>\n",
       "      <td>139</td>\n",
       "    </tr>\n",
       "    <tr>\n",
       "      <th>4</th>\n",
       "      <td>139</td>\n",
       "    </tr>\n",
       "  </tbody>\n",
       "</table>\n",
       "</div>"
      ],
      "text/plain": [
       "   Store\n",
       "0    138\n",
       "1    138\n",
       "2    138\n",
       "3    139\n",
       "4    139"
      ]
     },
     "execution_count": 5,
     "metadata": {},
     "output_type": "execute_result"
    }
   ],
   "source": [
    "store_list = np.arange(138,4129,1)\n",
    "store_df = pd.DataFrame(data=store_list)\n",
    "store_df_all = pd.DataFrame({'Store':np.repeat(store_df.values,3)})\n",
    "store_df_final = pd.concat([store_df_all]*121, ignore_index=True)\n",
    "store_df_final.head()"
   ]
  },
  {
   "cell_type": "markdown",
   "metadata": {},
   "source": [
    "We combine the Date, Store, and Brand columns into a DataFrame"
   ]
  },
  {
   "cell_type": "code",
   "execution_count": 15,
   "metadata": {},
   "outputs": [],
   "source": [
    "df_combined = pd.concat([dates_df_all, store_df_final, brands_df_all], axis=1, sort=False)"
   ]
  },
  {
   "cell_type": "markdown",
   "metadata": {},
   "source": [
    "To maintain the distribution of the data and no outliers, the Quantity column is generated by selecting a random number between the 25th and 75th percentile from the original data. The price column is generated the same as Quantity using the 25th and 75th percentiles of the original data for the range."
   ]
  },
  {
   "cell_type": "code",
   "execution_count": 18,
   "metadata": {
    "scrolled": true
   },
   "outputs": [
    {
     "data": {
      "text/html": [
       "<div>\n",
       "<style scoped>\n",
       "    .dataframe tbody tr th:only-of-type {\n",
       "        vertical-align: middle;\n",
       "    }\n",
       "\n",
       "    .dataframe tbody tr th {\n",
       "        vertical-align: top;\n",
       "    }\n",
       "\n",
       "    .dataframe thead th {\n",
       "        text-align: right;\n",
       "    }\n",
       "</style>\n",
       "<table border=\"1\" class=\"dataframe\">\n",
       "  <thead>\n",
       "    <tr style=\"text-align: right;\">\n",
       "      <th></th>\n",
       "      <th>WeekStarting</th>\n",
       "      <th>Store</th>\n",
       "      <th>Brand</th>\n",
       "      <th>Quantity</th>\n",
       "      <th>Advert</th>\n",
       "      <th>Price</th>\n",
       "    </tr>\n",
       "  </thead>\n",
       "  <tbody>\n",
       "    <tr>\n",
       "      <th>0</th>\n",
       "      <td>1990-06-14</td>\n",
       "      <td>138</td>\n",
       "      <td>dominicks</td>\n",
       "      <td>13706</td>\n",
       "      <td>0</td>\n",
       "      <td>2.62</td>\n",
       "    </tr>\n",
       "    <tr>\n",
       "      <th>1</th>\n",
       "      <td>1990-06-14</td>\n",
       "      <td>138</td>\n",
       "      <td>minute.maid</td>\n",
       "      <td>12161</td>\n",
       "      <td>0</td>\n",
       "      <td>2.03</td>\n",
       "    </tr>\n",
       "    <tr>\n",
       "      <th>2</th>\n",
       "      <td>1990-06-14</td>\n",
       "      <td>138</td>\n",
       "      <td>tropicana</td>\n",
       "      <td>15080</td>\n",
       "      <td>0</td>\n",
       "      <td>2.29</td>\n",
       "    </tr>\n",
       "    <tr>\n",
       "      <th>3</th>\n",
       "      <td>1990-06-14</td>\n",
       "      <td>139</td>\n",
       "      <td>dominicks</td>\n",
       "      <td>16407</td>\n",
       "      <td>0</td>\n",
       "      <td>2.53</td>\n",
       "    </tr>\n",
       "    <tr>\n",
       "      <th>4</th>\n",
       "      <td>1990-06-14</td>\n",
       "      <td>139</td>\n",
       "      <td>minute.maid</td>\n",
       "      <td>13734</td>\n",
       "      <td>0</td>\n",
       "      <td>2.45</td>\n",
       "    </tr>\n",
       "  </tbody>\n",
       "</table>\n",
       "</div>"
      ],
      "text/plain": [
       "  WeekStarting  Store        Brand  Quantity  Advert  Price\n",
       "0 1990-06-14    138    dominicks    13706     0      2.62  \n",
       "1 1990-06-14    138    minute.maid  12161     0      2.03  \n",
       "2 1990-06-14    138    tropicana    15080     0      2.29  \n",
       "3 1990-06-14    139    dominicks    16407     0      2.53  \n",
       "4 1990-06-14    139    minute.maid  13734     0      2.45  "
      ]
     },
     "execution_count": 18,
     "metadata": {},
     "output_type": "execute_result"
    }
   ],
   "source": [
    "df_combined['Quantity'] = np.random.randint(9000, 20000, df_combined.shape[0])\n",
    "df_combined['Advert'] = np.random.randint(0,2)\n",
    "df_combined['Price'] = np.random.randint(190, 270, df_combined.shape[0])/100\n",
    "df_combined.head()"
   ]
  },
  {
   "cell_type": "markdown",
   "metadata": {},
   "source": [
    "Last, we combine the original dataset to the generated dataset. The new dataset contains ~1.5 million records."
   ]
  },
  {
   "cell_type": "code",
   "execution_count": 19,
   "metadata": {},
   "outputs": [],
   "source": [
    "data_filtered = data[['WeekStarting', 'Store', 'Brand', 'Quantity','Advert', 'Price']]\n",
    "frames = [data_filtered, df_combined]\n",
    "df_final = pd.concat(frames)"
   ]
  },
  {
   "cell_type": "markdown",
   "metadata": {},
   "source": [
    "We compared the summary statistics of the original data to the new dataset to confirm the means and standard deviations did not have a significant change."
   ]
  },
  {
   "cell_type": "code",
   "execution_count": 20,
   "metadata": {},
   "outputs": [
    {
     "data": {
      "text/html": [
       "<div>\n",
       "<style scoped>\n",
       "    .dataframe tbody tr th:only-of-type {\n",
       "        vertical-align: middle;\n",
       "    }\n",
       "\n",
       "    .dataframe tbody tr th {\n",
       "        vertical-align: top;\n",
       "    }\n",
       "\n",
       "    .dataframe thead th {\n",
       "        text-align: right;\n",
       "    }\n",
       "</style>\n",
       "<table border=\"1\" class=\"dataframe\">\n",
       "  <thead>\n",
       "    <tr style=\"text-align: right;\">\n",
       "      <th></th>\n",
       "      <th>Store</th>\n",
       "      <th>Quantity</th>\n",
       "      <th>Advert</th>\n",
       "      <th>Price</th>\n",
       "    </tr>\n",
       "  </thead>\n",
       "  <tbody>\n",
       "    <tr>\n",
       "      <th>count</th>\n",
       "      <td>28947.00</td>\n",
       "      <td>28947.00</td>\n",
       "      <td>28947.00</td>\n",
       "      <td>28947.00</td>\n",
       "    </tr>\n",
       "    <tr>\n",
       "      <th>mean</th>\n",
       "      <td>80.88</td>\n",
       "      <td>17312.21</td>\n",
       "      <td>0.24</td>\n",
       "      <td>2.28</td>\n",
       "    </tr>\n",
       "    <tr>\n",
       "      <th>std</th>\n",
       "      <td>35.58</td>\n",
       "      <td>27477.66</td>\n",
       "      <td>0.43</td>\n",
       "      <td>0.65</td>\n",
       "    </tr>\n",
       "    <tr>\n",
       "      <th>min</th>\n",
       "      <td>2.00</td>\n",
       "      <td>64.00</td>\n",
       "      <td>0.00</td>\n",
       "      <td>0.52</td>\n",
       "    </tr>\n",
       "    <tr>\n",
       "      <th>25%</th>\n",
       "      <td>53.00</td>\n",
       "      <td>4864.00</td>\n",
       "      <td>0.00</td>\n",
       "      <td>1.79</td>\n",
       "    </tr>\n",
       "    <tr>\n",
       "      <th>50%</th>\n",
       "      <td>86.00</td>\n",
       "      <td>8384.00</td>\n",
       "      <td>0.00</td>\n",
       "      <td>2.17</td>\n",
       "    </tr>\n",
       "    <tr>\n",
       "      <th>75%</th>\n",
       "      <td>111.00</td>\n",
       "      <td>17408.00</td>\n",
       "      <td>0.00</td>\n",
       "      <td>2.73</td>\n",
       "    </tr>\n",
       "    <tr>\n",
       "      <th>max</th>\n",
       "      <td>137.00</td>\n",
       "      <td>716416.00</td>\n",
       "      <td>1.00</td>\n",
       "      <td>3.87</td>\n",
       "    </tr>\n",
       "  </tbody>\n",
       "</table>\n",
       "</div>"
      ],
      "text/plain": [
       "         Store  Quantity   Advert    Price\n",
       "count 28947.00 28947.00  28947.00 28947.00\n",
       "mean  80.88    17312.21  0.24     2.28    \n",
       "std   35.58    27477.66  0.43     0.65    \n",
       "min   2.00     64.00     0.00     0.52    \n",
       "25%   53.00    4864.00   0.00     1.79    \n",
       "50%   86.00    8384.00   0.00     2.17    \n",
       "75%   111.00   17408.00  0.00     2.73    \n",
       "max   137.00   716416.00 1.00     3.87    "
      ]
     },
     "execution_count": 20,
     "metadata": {},
     "output_type": "execute_result"
    }
   ],
   "source": [
    "data_filtered.describe()"
   ]
  },
  {
   "cell_type": "code",
   "execution_count": 21,
   "metadata": {},
   "outputs": [
    {
     "data": {
      "text/html": [
       "<div>\n",
       "<style scoped>\n",
       "    .dataframe tbody tr th:only-of-type {\n",
       "        vertical-align: middle;\n",
       "    }\n",
       "\n",
       "    .dataframe tbody tr th {\n",
       "        vertical-align: top;\n",
       "    }\n",
       "\n",
       "    .dataframe thead th {\n",
       "        text-align: right;\n",
       "    }\n",
       "</style>\n",
       "<table border=\"1\" class=\"dataframe\">\n",
       "  <thead>\n",
       "    <tr style=\"text-align: right;\">\n",
       "      <th></th>\n",
       "      <th>Store</th>\n",
       "      <th>Quantity</th>\n",
       "      <th>Advert</th>\n",
       "      <th>Price</th>\n",
       "    </tr>\n",
       "  </thead>\n",
       "  <tbody>\n",
       "    <tr>\n",
       "      <th>count</th>\n",
       "      <td>1477680.00</td>\n",
       "      <td>1477680.00</td>\n",
       "      <td>1477680.00</td>\n",
       "      <td>1477680.00</td>\n",
       "    </tr>\n",
       "    <tr>\n",
       "      <th>mean</th>\n",
       "      <td>2092.80</td>\n",
       "      <td>14556.40</td>\n",
       "      <td>0.00</td>\n",
       "      <td>2.29</td>\n",
       "    </tr>\n",
       "    <tr>\n",
       "      <th>std</th>\n",
       "      <td>1175.69</td>\n",
       "      <td>4983.41</td>\n",
       "      <td>0.07</td>\n",
       "      <td>0.25</td>\n",
       "    </tr>\n",
       "    <tr>\n",
       "      <th>min</th>\n",
       "      <td>2.00</td>\n",
       "      <td>64.00</td>\n",
       "      <td>0.00</td>\n",
       "      <td>0.52</td>\n",
       "    </tr>\n",
       "    <tr>\n",
       "      <th>25%</th>\n",
       "      <td>1075.00</td>\n",
       "      <td>11663.00</td>\n",
       "      <td>0.00</td>\n",
       "      <td>2.09</td>\n",
       "    </tr>\n",
       "    <tr>\n",
       "      <th>50%</th>\n",
       "      <td>2093.00</td>\n",
       "      <td>14460.00</td>\n",
       "      <td>0.00</td>\n",
       "      <td>2.29</td>\n",
       "    </tr>\n",
       "    <tr>\n",
       "      <th>75%</th>\n",
       "      <td>3111.00</td>\n",
       "      <td>17255.00</td>\n",
       "      <td>0.00</td>\n",
       "      <td>2.50</td>\n",
       "    </tr>\n",
       "    <tr>\n",
       "      <th>max</th>\n",
       "      <td>4128.00</td>\n",
       "      <td>716416.00</td>\n",
       "      <td>1.00</td>\n",
       "      <td>3.87</td>\n",
       "    </tr>\n",
       "  </tbody>\n",
       "</table>\n",
       "</div>"
      ],
      "text/plain": [
       "           Store   Quantity     Advert      Price\n",
       "count 1477680.00 1477680.00 1477680.00 1477680.00\n",
       "mean  2092.80    14556.40   0.00       2.29      \n",
       "std   1175.69    4983.41    0.07       0.25      \n",
       "min   2.00       64.00      0.00       0.52      \n",
       "25%   1075.00    11663.00   0.00       2.09      \n",
       "50%   2093.00    14460.00   0.00       2.29      \n",
       "75%   3111.00    17255.00   0.00       2.50      \n",
       "max   4128.00    716416.00  1.00       3.87      "
      ]
     },
     "execution_count": 21,
     "metadata": {},
     "output_type": "execute_result"
    }
   ],
   "source": [
    "df_final.describe()"
   ]
  },
  {
   "cell_type": "markdown",
   "metadata": {},
   "source": [
    "Also adding a revenue column if you'd like to predict time-series revenue instead."
   ]
  },
  {
   "cell_type": "code",
   "execution_count": 22,
   "metadata": {},
   "outputs": [],
   "source": [
    "df_final['Revenue'] = df_final['Quantity']*df_final['Price'] "
   ]
  },
  {
   "cell_type": "markdown",
   "metadata": {},
   "source": [
    "## Save synthetic data and upload to blob"
   ]
  },
  {
   "cell_type": "markdown",
   "metadata": {},
   "source": [
    "For the next steps, we will want to save the final output back to Blob Storage. We create a synthetic_data folder and upload the full dataset."
   ]
  },
  {
   "cell_type": "code",
   "execution_count": null,
   "metadata": {
    "scrolled": false
   },
   "outputs": [],
   "source": [
    "synthetic_path = 'synthetic_data/'\n",
    "syn_filename='ojsales.csv'\n",
    "\n",
    "df_final.to_csv(path_or_buf=synthetic_path+syn_filename,index=False)"
   ]
  },
  {
   "cell_type": "code",
   "execution_count": 364,
   "metadata": {},
   "outputs": [
    {
     "name": "stdout",
     "output_type": "stream",
     "text": [
      "Uploading an estimated of 2 files\n",
      "Uploading synthetic_data/.DS_Store\n",
      "Uploading synthetic_data/ojsales.csv\n",
      "Uploaded synthetic_data/.DS_Store, 1 files out of an estimated total of 2\n",
      "Uploaded synthetic_data/ojsales.csv, 2 files out of an estimated total of 2\n",
      "Uploaded 2 files\n"
     ]
    },
    {
     "data": {
      "text/plain": [
       "$AZUREML_DATAREFERENCE_028e1440013d4a1d8cec79a6c876eef6"
      ]
     },
     "execution_count": 364,
     "metadata": {},
     "output_type": "execute_result"
    }
   ],
   "source": [
    "ojsalessynthetic_path='synthetic_data'\n",
    "datastore.upload(src_dir=ojsalessynthetic_path,\n",
    "                 target_path='ojsalessynthetic',\n",
    "                 overwrite=True,\n",
    "                 show_progress=True)"
   ]
  },
  {
   "cell_type": "markdown",
   "metadata": {},
   "source": [
    "## Save individual dataset and upload to blob"
   ]
  },
  {
   "cell_type": "markdown",
   "metadata": {},
   "source": [
    "We also want the data broken into a csv for each store and brand. This is the granularity we will build our models at. To do this, we group the data by Store and Brand and save a csv. Then we upload those csv’s to Blob.\n",
    "\n",
    "We have a total of 12,222 datasets uploaded. The time estimate is ~ 2 min to write them to local directory and ~2 min to uplaod to the blob."
   ]
  },
  {
   "cell_type": "code",
   "execution_count": null,
   "metadata": {},
   "outputs": [],
   "source": [
    "dfs = [x for _, x in df_final.groupby(['Store', 'Brand'])]"
   ]
  },
  {
   "cell_type": "code",
   "execution_count": null,
   "metadata": {},
   "outputs": [],
   "source": [
    "refined_path = 'refined_data/'\n",
    "\n",
    "for i in dfs:\n",
    "    file_name = 'Store'+str(i['Store'].unique()).lstrip(\"['\").rstrip(\"']\")+'_'+str(i['Brand'].unique()).lstrip(\"['\").rstrip(\"']\")+'.csv'\n",
    "    i.to_csv(path_or_buf=refined_path+file_name, index=False,)"
   ]
  },
  {
   "cell_type": "code",
   "execution_count": null,
   "metadata": {
    "scrolled": false
   },
   "outputs": [],
   "source": [
    "ojsalesrefined_path='refined_data'\n",
    "datastore.upload(src_dir=ojsalesrefined_path,\n",
    "                 target_path='ojsalesrefined',\n",
    "                 overwrite=True,\n",
    "                 show_progress=True)"
   ]
  },
  {
   "cell_type": "markdown",
   "metadata": {},
   "source": [
    "## Next steps"
   ]
  },
  {
   "cell_type": "markdown",
   "metadata": {},
   "source": [
    "1. Assign weights when generate random number between 0 and 1 to advert column.\n",
    "2. Identify a less memeory consuming way to write 12,222 datasets to a local directory. Maybe a tmpdirectory and upload them to the blob."
   ]
  },
  {
   "cell_type": "code",
   "execution_count": null,
   "metadata": {
    "scrolled": true
   },
   "outputs": [],
   "source": [
    "# advert=[1,0,0]\n",
    "# advert_df = pd.DataFrame({'Advert':advert})\n",
    "# advert_df_all = pd.DataFrame()\n",
    "# advert_df_all = pd.concat([advert_df]*482911, ignore_index=True)"
   ]
  }
 ],
 "metadata": {
  "authors": [
   {
    "name": "erwright"
   }
  ],
  "category": "tutorial",
  "celltoolbar": "Raw Cell Format",
  "compute": [
   "remote"
  ],
  "datasets": [
   "Orange Juice Sales"
  ],
  "deployment": [
   "Azure Container Instance"
  ],
  "exclude_from_index": false,
  "framework": [
   "Azure ML AutoML"
  ],
  "friendly_name": "Forecasting orange juice sales with deployment",
  "index_order": 1,
  "kernelspec": {
   "display_name": "Python 3",
   "language": "python",
   "name": "python3"
  },
  "language_info": {
   "codemirror_mode": {
    "name": "ipython",
    "version": 3
   },
   "file_extension": ".py",
   "mimetype": "text/x-python",
   "name": "python",
   "nbconvert_exporter": "python",
   "pygments_lexer": "ipython3",
   "version": "3.6.5"
  },
  "task": "Forecasting"
 },
 "nbformat": 4,
 "nbformat_minor": 2
}
