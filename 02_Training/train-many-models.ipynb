{
 "cells": [
  {
   "cell_type": "code",
   "execution_count": 1,
   "metadata": {},
   "outputs": [
    {
     "name": "stdout",
     "output_type": "stream",
     "text": [
      "SDK version: 1.0.74\n"
     ]
    }
   ],
   "source": [
    "#import stuff and get workspace\n",
    "import os\n",
    "import azureml.core\n",
    "from azureml.core import Workspace, Experiment, Run\n",
    "from azureml.core.compute import ComputeTarget, AmlCompute\n",
    "from azureml.core.compute_target import ComputeTargetException\n",
    "from azureml.core.runconfig import RunConfiguration\n",
    "from azureml.core.conda_dependencies import CondaDependencies\n",
    "from azureml.core.runconfig import DEFAULT_CPU_IMAGE\n",
    "from azureml.pipeline.core import Pipeline\n",
    "from azureml.pipeline.steps import PythonScriptStep\n",
    "from azureml.widgets import RunDetails\n",
    "from azureml.core import Workspace, Experiment, Datastore\n",
    "from azureml.core.compute import AmlCompute\n",
    "from azureml.core.compute import ComputeTarget\n",
    "from azureml.widgets import RunDetails\n",
    "from azureml.data.data_reference import DataReference\n",
    "from azureml.pipeline.core import Pipeline, PipelineData\n",
    "from azureml.pipeline.steps import PythonScriptStep\n",
    "from azureml.pipeline.core.schedule import ScheduleRecurrence, Schedule\n",
    "from azureml.core.dataset import Dataset\n",
    "from azureml.core.authentication import InteractiveLoginAuthentication\n",
    "\n",
    "\n",
    "print(\"SDK version:\", azureml.core.VERSION)\n",
    "#auth = InteractiveLoginAuthentication(force=True, tenant_id=\"72f988bf-86f1-41af-91ab-2d7cd011db47\")\n",
    "# ws = Workspace.from_config()"
   ]
  },
  {
   "cell_type": "code",
   "execution_count": 5,
   "metadata": {},
   "outputs": [
    {
     "data": {
      "text/plain": [
       "{'id': '/subscriptions/bbd86e7d-3602-4e6d-baa4-40ae2ad9303c/resourceGroups/ManyModelsSA/providers/Microsoft.MachineLearningServices/workspaces/ManyModelsSAv1',\n",
       " 'name': 'ManyModelsSAv1',\n",
       " 'location': 'centralus',\n",
       " 'type': 'Microsoft.MachineLearningServices/workspaces',\n",
       " 'tags': {},\n",
       " 'sku': 'Enterprise',\n",
       " 'workspaceid': '77752be6-01b4-4a3e-9d42-03c9c0d6248f',\n",
       " 'description': '',\n",
       " 'friendlyName': '',\n",
       " 'creationTime': '2019-11-18T20:17:22.9729795+00:00',\n",
       " 'containerRegistry': '/subscriptions/bbd86e7d-3602-4e6d-baa4-40ae2ad9303c/resourceGroups/ManyModelsSA/providers/Microsoft.ContainerRegistry/registries/manymodelssa8faf85d6',\n",
       " 'keyVault': '/subscriptions/bbd86e7d-3602-4e6d-baa4-40ae2ad9303c/resourcegroups/manymodelssa/providers/microsoft.keyvault/vaults/manymodelssav16798764194',\n",
       " 'applicationInsights': '/subscriptions/bbd86e7d-3602-4e6d-baa4-40ae2ad9303c/resourcegroups/manymodelssa/providers/microsoft.insights/components/manymodelssav10130926491',\n",
       " 'identityPrincipalId': '999f751c-ae2e-445e-98b5-454215bbc53a',\n",
       " 'identityTenantId': '72f988bf-86f1-41af-91ab-2d7cd011db47',\n",
       " 'identityType': 'SystemAssigned',\n",
       " 'storageAccount': '/subscriptions/bbd86e7d-3602-4e6d-baa4-40ae2ad9303c/resourcegroups/manymodelssa/providers/microsoft.storage/storageaccounts/manymodelssav16457539585'}"
      ]
     },
     "execution_count": 5,
     "metadata": {},
     "output_type": "execute_result"
    }
   ],
   "source": [
    "ws = Workspace(subscription_id=\"bbd86e7d-3602-4e6d-baa4-40ae2ad9303c\", resource_group=\"ManyModelsSA\", workspace_name=\"ManyModelsSAv1\")\n",
    "ws.get_details()"
   ]
  },
  {
   "cell_type": "code",
   "execution_count": null,
   "metadata": {},
   "outputs": [],
   "source": [
    "# !pip install azureml-contrib-pipeline-steps\n",
    "#!az ml"
   ]
  },
  {
   "cell_type": "code",
   "execution_count": 6,
   "metadata": {},
   "outputs": [
    {
     "name": "stdout",
     "output_type": "stream",
     "text": [
      "workspaceblobstore AzureBlob manymodelssav16457539585 azureml-blobstore-77752be6-01b4-4a3e-9d42-03c9c0d6248f\n"
     ]
    }
   ],
   "source": [
    "# ws = Workspace.from_config()\n",
    "\n",
    "# create a new runconfig object\n",
    "run_config = RunConfiguration()\n",
    "run_config.environment.docker.enabled = True\n",
    "run_config.environment.docker.base_image = DEFAULT_CPU_IMAGE\n",
    "run_config.environment.python.conda_dependencies = CondaDependencies.create(conda_packages=['scikit-learn'])\n",
    "\n",
    "#choose a compute target\n",
    "compute = AmlCompute(ws, \"cpu-cluster\")\n",
    "dstore = ws.get_default_datastore()\n",
    "\n",
    "print(dstore.name, dstore.datastore_type, dstore.account_name, dstore.container_name)"
   ]
  },
  {
   "cell_type": "code",
   "execution_count": 10,
   "metadata": {},
   "outputs": [],
   "source": [
    "workercount=3\n",
    "nodecount=1\n",
    "timeout=3000\n",
    "\n",
    "from azureml.pipeline.core import Pipeline, PipelineData\n",
    "\n",
    "dataset1 = Dataset.Tabular.from_delimited_files(path = (dstore, '3modelsdata/Store2_dominicks.csv'))\n",
    "dataset2 = Dataset.Tabular.from_delimited_files(path = (dstore, '3modelsdata/Store5_tropicana.csv'))\n",
    "dataset3 = Dataset.Tabular.from_delimited_files(path = (dstore, '3modelsdata/Store8_minute.maid.csv'))\n",
    "\n",
    "output_dir = PipelineData(name=\"3models\", \n",
    "                          datastore=dstore, \n",
    "                          output_path_on_compute=\"3models/\")\n",
    "\n",
    "from azureml.core import Experiment\n",
    "experiment = Experiment(ws, 'automl-ojforecasting')"
   ]
  },
  {
   "cell_type": "code",
   "execution_count": 29,
   "metadata": {},
   "outputs": [
    {
     "data": {
      "text/html": [
       "<div>\n",
       "<style scoped>\n",
       "    .dataframe tbody tr th:only-of-type {\n",
       "        vertical-align: middle;\n",
       "    }\n",
       "\n",
       "    .dataframe tbody tr th {\n",
       "        vertical-align: top;\n",
       "    }\n",
       "\n",
       "    .dataframe thead th {\n",
       "        text-align: right;\n",
       "    }\n",
       "</style>\n",
       "<table border=\"1\" class=\"dataframe\">\n",
       "  <thead>\n",
       "    <tr style=\"text-align: right;\">\n",
       "      <th></th>\n",
       "      <th>WeekStarting</th>\n",
       "      <th>Store</th>\n",
       "      <th>Brand</th>\n",
       "      <th>Quantity</th>\n",
       "      <th>Advert</th>\n",
       "      <th>Price</th>\n",
       "      <th>Revenue</th>\n",
       "    </tr>\n",
       "  </thead>\n",
       "  <tbody>\n",
       "    <tr>\n",
       "      <th>0</th>\n",
       "      <td>1990-06-14</td>\n",
       "      <td>2</td>\n",
       "      <td>dominicks</td>\n",
       "      <td>10560</td>\n",
       "      <td>1</td>\n",
       "      <td>1.59</td>\n",
       "      <td>16790.40</td>\n",
       "    </tr>\n",
       "    <tr>\n",
       "      <th>1</th>\n",
       "      <td>1990-07-26</td>\n",
       "      <td>2</td>\n",
       "      <td>dominicks</td>\n",
       "      <td>8000</td>\n",
       "      <td>0</td>\n",
       "      <td>2.69</td>\n",
       "      <td>21520.00</td>\n",
       "    </tr>\n",
       "    <tr>\n",
       "      <th>2</th>\n",
       "      <td>1990-08-02</td>\n",
       "      <td>2</td>\n",
       "      <td>dominicks</td>\n",
       "      <td>6848</td>\n",
       "      <td>1</td>\n",
       "      <td>2.09</td>\n",
       "      <td>14312.32</td>\n",
       "    </tr>\n",
       "    <tr>\n",
       "      <th>3</th>\n",
       "      <td>1990-08-09</td>\n",
       "      <td>2</td>\n",
       "      <td>dominicks</td>\n",
       "      <td>2880</td>\n",
       "      <td>0</td>\n",
       "      <td>2.09</td>\n",
       "      <td>6019.20</td>\n",
       "    </tr>\n",
       "    <tr>\n",
       "      <th>4</th>\n",
       "      <td>1990-08-23</td>\n",
       "      <td>2</td>\n",
       "      <td>dominicks</td>\n",
       "      <td>1600</td>\n",
       "      <td>0</td>\n",
       "      <td>2.09</td>\n",
       "      <td>3344.00</td>\n",
       "    </tr>\n",
       "  </tbody>\n",
       "</table>\n",
       "</div>"
      ],
      "text/plain": [
       "  WeekStarting  Store      Brand  Quantity  Advert  Price   Revenue\n",
       "0   1990-06-14      2  dominicks     10560       1   1.59  16790.40\n",
       "1   1990-07-26      2  dominicks      8000       0   2.69  21520.00\n",
       "2   1990-08-02      2  dominicks      6848       1   2.09  14312.32\n",
       "3   1990-08-09      2  dominicks      2880       0   2.09   6019.20\n",
       "4   1990-08-23      2  dominicks      1600       0   2.09   3344.00"
      ]
     },
     "execution_count": 29,
     "metadata": {},
     "output_type": "execute_result"
    }
   ],
   "source": [
    "dataset1.to_pandas_dataframe().head()"
   ]
  },
  {
   "cell_type": "code",
   "execution_count": 11,
   "metadata": {},
   "outputs": [],
   "source": [
    "from azureml.core import Environment\n",
    "from azureml.core.runconfig import CondaDependencies, DEFAULT_CPU_IMAGE\n",
    "\n",
    "batch_conda_deps = CondaDependencies.create(pip_packages=['sklearn'])\n",
    "\n",
    "batch_env = Environment(name=\"manymodels_environment\")\n",
    "batch_env.python.conda_dependencies = batch_conda_deps\n",
    "batch_env.docker.enabled = True\n",
    "batch_env.docker.base_image = DEFAULT_CPU_IMAGE"
   ]
  },
  {
   "cell_type": "code",
   "execution_count": 18,
   "metadata": {},
   "outputs": [],
   "source": [
    "from azureml.contrib.pipeline.steps import ParallelRunStep, ParallelRunConfig\n",
    "datasetname='store'\n",
    "\n",
    "tags1={}\n",
    "tags1['dataset']=datasetname\n",
    "tags1['nodes']=nodecount\n",
    "tags1['workers-per-node']=workercount\n",
    "tags1['timeout']=timeout\n",
    "\n",
    "parallel_run_config = ParallelRunConfig(\n",
    "    source_directory='./scripts',\n",
    "    entry_script='train.py',\n",
    "    mini_batch_size=\"1\",\n",
    "    run_invocation_timeout=timeout,\n",
    "    error_threshold=10,\n",
    "    output_action=\"summary_only\",\n",
    "    environment=batch_env,\n",
    "    process_count_per_node=workercount,\n",
    "    compute_target=compute,\n",
    "    node_count=nodecount)"
   ]
  },
  {
   "cell_type": "code",
   "execution_count": 19,
   "metadata": {},
   "outputs": [],
   "source": [
    "parallelrun_step = ParallelRunStep(\n",
    "    name=\"many-models-training\",\n",
    "    parallel_run_config=parallel_run_config,\n",
    "    inputs=[dataset1.as_named_input(datasetname), dataset2.as_named_input(datasetname), dataset3.as_named_input(datasetname)],\n",
    "    output=output_dir,\n",
    "    models=[],\n",
    "    arguments=[],\n",
    "    allow_reuse=False\n",
    ")"
   ]
  },
  {
   "cell_type": "code",
   "execution_count": 20,
   "metadata": {},
   "outputs": [
    {
     "name": "stdout",
     "output_type": "stream",
     "text": [
      "Created step many-models-training [be5bdcc5][9695b249-15a3-473e-bcd3-9baa4b0d9054], (This step will run and generate new outputs)\n",
      "Submitted PipelineRun 6aafdd1d-c357-4aa1-a05c-2b4f448d7e56\n"
     ]
    },
    {
     "name": "stderr",
     "output_type": "stream",
     "text": [
      "WARNING - Converting non-string tag to string: (nodes: 1)\n",
      "WARNING - Converting non-string tag to string: (workers-per-node: 3)\n",
      "WARNING - Converting non-string tag to string: (timeout: 3000)\n"
     ]
    },
    {
     "name": "stdout",
     "output_type": "stream",
     "text": [
      "Link to Azure Machine Learning studio: https://ml.azure.com/experiments/automl-ojforecasting/runs/6aafdd1d-c357-4aa1-a05c-2b4f448d7e56?wsid=/subscriptions/bbd86e7d-3602-4e6d-baa4-40ae2ad9303c/resourcegroups/ManyModelsSA/workspaces/ManyModelsSAv1\n"
     ]
    }
   ],
   "source": [
    "\n",
    "pipeline = Pipeline(workspace=ws, steps=[parallelrun_step])\n",
    "\n",
    "run1 = experiment.submit(pipeline,tags=tags1)\n",
    "#RunDetails(run1).show()"
   ]
  },
  {
   "cell_type": "code",
   "execution_count": null,
   "metadata": {},
   "outputs": [],
   "source": []
  },
  {
   "cell_type": "code",
   "execution_count": null,
   "metadata": {},
   "outputs": [],
   "source": []
  },
  {
   "cell_type": "code",
   "execution_count": null,
   "metadata": {},
   "outputs": [],
   "source": []
  },
  {
   "cell_type": "code",
   "execution_count": null,
   "metadata": {},
   "outputs": [],
   "source": []
  },
  {
   "cell_type": "code",
   "execution_count": null,
   "metadata": {},
   "outputs": [],
   "source": [
    "run1"
   ]
  },
  {
   "cell_type": "code",
   "execution_count": null,
   "metadata": {},
   "outputs": [],
   "source": [
    "%%writefile ./code/train.py\n",
    "\n",
    "import pandas as pd\n",
    "import os\n",
    "import uuid\n",
    "\n",
    "from azureml.core.model import Model\n",
    "from sklearn.linear_model import LinearRegression\n",
    "from sklearn.model_selection import train_test_split\n",
    "from sklearn.tree import DecisionTreeClassifier\n",
    "from sklearn import metrics\n",
    "import pickle\n",
    "from azureml.core import Experiment, Workspace, Run\n",
    "from azureml.core import ScriptRunConfig\n",
    "import datetime\n",
    "from entry_script_helper import EntryScriptHelper\n",
    "import logging\n",
    "\n",
    "from sklearn.externals import joblib\n",
    "from joblib import dump, load\n",
    "\n",
    "thisrun = Run.get_context()\n",
    "#childrun=thisrun\n",
    "\n",
    "LOG_NAME = \"user_log\"\n",
    "\n",
    "def init():\n",
    "    EntryScriptHelper().config(LOG_NAME)\n",
    "    logger = logging.getLogger(LOG_NAME)\n",
    "    output_folder = os.path.join(os.environ.get(\"AZ_BATCHAI_INPUT_AZUREML\", \"\"), \"temp/output\")\n",
    "    logger.info(f\"{__file__}.output_folder:{output_folder}\")\n",
    "    logger.info(\"init()\")\n",
    "    return\n",
    "\n",
    "def run(input_data):\n",
    "    logger = logging.getLogger(LOG_NAME)\n",
    "    os.makedirs('./outputs', exist_ok=True)\n",
    "    resultList = []\n",
    "    logger.info('processing all files')\n",
    "    for file in input_data:\n",
    "        u1 = uuid.uuid4()\n",
    "        mname='sklearn_model_'+str(u1)[0:16]\n",
    "        #for w in range(0,1):\n",
    "        with thisrun.child_run(name=mname) as childrun:\n",
    "            for w in range(0,5):\n",
    "                thisrun.log(mname,str(w))\n",
    "            date1=datetime.datetime.now()\n",
    "            logger.info('starting ('+file+') ' + str(date1))\n",
    "            childrun.log(mname,'starttime-'+str(date1))\n",
    "            # 1.read in the data file\n",
    "            data = pd.read_csv(file,header=None)\n",
    "            logger.info(data.head())\n",
    "            # 2. set the data up for training\n",
    "            train,test=train_test_split(data,test_size=0.3)\n",
    "            train_X=train[train.columns[0:6]]\n",
    "            train_y=train[train.columns[-1]]\n",
    "            test_X=test[train.columns[0:6]]\n",
    "            test_y=train[train.columns[-1]]\n",
    "            # 3. train a decision tree\n",
    "            dtmodel=LinearRegression()\n",
    "            dtmodel.fit(train_X,train_y)\n",
    "            logger.info('done training')\n",
    "            # 4. save the model\n",
    "            logger.info(dtmodel)\n",
    "            logger.info(mname)\n",
    "            with open(mname, 'wb') as file:\n",
    "                joblib.dump(value=dtmodel, filename=os.path.join('./outputs/', mname))\n",
    "            # 5. Register the model\n",
    "            ws1 = childrun.experiment.workspace\n",
    "            try:\n",
    "                childrun.upload_file(mname, os.path.join('./outputs/', mname))\n",
    "            except:\n",
    "                logger.info('dont need to upload')\n",
    "            logger.info('register model, skip the outputs prefix')\n",
    "            Model.register(workspace=ws1, model_path=os.path.join('./outputs/', mname), model_name=mname, model_framework='sklearn')\n",
    "            #you can return anything you want\n",
    "            date2=datetime.datetime.now()\n",
    "            logger.info('ending ('+str(file)+') ' + str(date2))\n",
    "\n",
    "            #log some metrics\n",
    "            childrun.log(mname,'endtime-'+str(date2))\n",
    "            childrun.log(mname,'auc-1')\n",
    "        resultList.append(True)\n",
    "    return resultList\n",
    "\n",
    "\n",
    "\n",
    "\n",
    "'''\n",
    "#cols for IRIS\n",
    "print(data.head())\n",
    "train,test=train_test_split(data,test_size=0.3)\n",
    "train_X=train[[0,1,2,3]]\n",
    "train_y=train[4]\n",
    "test_X=test[[0,1,2,3]]\n",
    "test_y=train[4]\n",
    "dtmodel=DecisionTreeClassifier()\n",
    "dtmodel.fit(train_X,train_y)''' "
   ]
  },
  {
   "cell_type": "code",
   "execution_count": null,
   "metadata": {},
   "outputs": [],
   "source": [
    "run= Run(experiment, run_id='1639679a-3711-4840-bad9-067b0c0352f1')\n",
    "run.cancel()"
   ]
  },
  {
   "cell_type": "code",
   "execution_count": null,
   "metadata": {},
   "outputs": [],
   "source": [
    "import pandas as pd\n",
    "\n",
    "from azureml.core.model import Model\n",
    "from sklearn.linear_model import LogisticRegression\n",
    "from sklearn.model_selection import train_test_split\n",
    "from sklearn.tree import DecisionTreeClassifier\n",
    "from sklearn import metrics\n",
    "import pickle\n",
    "from azureml.core import Experiment, Workspace, Run\n",
    "from azureml.core import ScriptRunConfig\n",
    "import datetime\n",
    "\n",
    "data = pd.read_csv('./iris0.txt',header=None)\n",
    "print(data.head())\n",
    "print('4')\n",
    "train,test=train_test_split(data,test_size=0.3)\n",
    "print('5')\n",
    "train_X=train[[0,1,2,3]]\n",
    "print('6')\n",
    "train_y=train[4]\n",
    "print('7')\n",
    "test_X=test[[0,1,2,3]]\n",
    "test_y=train[4]\n",
    "print('8')\n",
    "dtmodel=DecisionTreeClassifier()\n",
    "print('9')\n",
    "dtmodel.fit(train_X,train_y)\n",
    "print('10')\n",
    "print(dtmodel)\n",
    "filename = './sklearn_model.pkl'\n",
    "pickle.dump(dtmodel, open(filename, 'wb'))\n",
    "model = Model.register(model_name='sklearn_model_e5ebe522',\n",
    "                   model_path='./sklearn_model.pkl',\n",
    "                   tags = {'area': \"MNIST\", 'type': \"sklearn\"},\n",
    "                   description = \"identify numbers\", workspace=ws)"
   ]
  },
  {
   "cell_type": "code",
   "execution_count": null,
   "metadata": {},
   "outputs": [],
   "source": [
    "data = pd.read_csv('/mnt/azmnt/code/Users/buehrer/many_models/code/dota2train.csv',header=None)\n",
    "print(data.head())\n",
    "train,test=train_test_split(data,test_size=0.3)\n",
    "train_X=train[train.columns[1:116]]\n",
    "train_y=train[[0]]\n",
    "test_X=test[train.columns[1:116]]\n",
    "test_y=train[[0]]\n",
    "dtmodel=DecisionTreeClassifier()\n",
    "dtmodel.fit(train_X,train_y)"
   ]
  },
  {
   "cell_type": "code",
   "execution_count": null,
   "metadata": {},
   "outputs": [],
   "source": [
    "!pwd"
   ]
  },
  {
   "cell_type": "code",
   "execution_count": null,
   "metadata": {},
   "outputs": [],
   "source": []
  }
 ],
 "metadata": {
  "kernelspec": {
   "display_name": "Python 3",
   "language": "python",
   "name": "python3"
  },
  "language_info": {
   "codemirror_mode": {
    "name": "ipython",
    "version": 3
   },
   "file_extension": ".py",
   "mimetype": "text/x-python",
   "name": "python",
   "nbconvert_exporter": "python",
   "pygments_lexer": "ipython3",
   "version": "3.6.5"
  }
 },
 "nbformat": 4,
 "nbformat_minor": 2
}
