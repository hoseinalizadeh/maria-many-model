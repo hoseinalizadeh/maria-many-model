{
 "cells": [
  {
   "cell_type": "markdown",
   "metadata": {},
   "source": [
    "Copyright (c) Microsoft Corporation. All rights reserved.\n",
    "\n",
    "Licensed under the MIT License."
   ]
  },
  {
   "cell_type": "markdown",
   "metadata": {},
   "source": [
    "# 00 Environment Setup\n",
    "---\n",
    "\n",
    "This notebook walks you through all the necessary steps to configure your environment for this solution accelerator including:\n",
    "1. Connecting to your workspace and create a config.json (*this can be skipped if running on a Notebook VM*)\n",
    "2. Deploying a compute cluster\n",
    "3. Creating and registering additional containers in blob storage for logging\n",
    "\n",
    "### Prerequisites\n",
    "At this point, you should have created your AML workspace. If you haven't created one already, you can create one in step 3."
   ]
  },
  {
   "cell_type": "markdown",
   "metadata": {},
   "source": [
    "## 1.0 Verify Azure ML SDK Version"
   ]
  },
  {
   "cell_type": "code",
   "execution_count": null,
   "metadata": {
    "tags": [
     "install"
    ]
   },
   "outputs": [],
   "source": [
    "import azureml.core\n",
    "\n",
    "print(\"This notebook was created using version 1.0.74.1 of the Azure ML SDK\")\n",
    "print(\"You are currently using version\", azureml.core.VERSION, \"of the Azure ML SDK\")"
   ]
  },
  {
   "cell_type": "markdown",
   "metadata": {},
   "source": [
    "If you are using an older version of the SDK then this notebook was created using, you should upgrade your SDK."
   ]
  },
  {
   "cell_type": "markdown",
   "metadata": {},
   "source": [
    "## 2.0 Connect to your Azure ML workspace\n",
    "\n",
    "### Workspace parameters\n",
    "\n",
    "To configure this solution accelerator to use your Azure ML workspace, supply the following information:\n",
    "* Your subscription id\n",
    "* The name of your resource group\n",
    "* A name for your workspace\n",
    "* (*optional*) The region that will host your workspace\n",
    "\n",
    "The following cell allows you to specify your workspace parameters.  This cell uses the python method `os.getenv` to read values from environment variables which is useful for automation.  If no environment variable exists, the parameters will be set to the specified default values. \n",
    "\n",
    "If you do not have a workspace set up, refer to the next section to create a new workspace. \n",
    "\n",
    "Replace the default values in the cell below with your workspace parameters:"
   ]
  },
  {
   "cell_type": "code",
   "execution_count": null,
   "metadata": {},
   "outputs": [],
   "source": [
    "import os\n",
    "\n",
    "subscription_id = os.getenv(\"SUBSCRIPTION_ID\", default=\"<my-subscriptoin-id>\")\n",
    "resource_group = os.getenv(\"RESOURCE_GROUP\", default=\"<my-resource-group>\")\n",
    "workspace_name = os.getenv(\"WORKSPACE_NAME\", default=\"<my-workspace-name>\")\n",
    "workspace_region = os.getenv(\"WORKSPACE_REGION\", default=\"westus2\")"
   ]
  },
  {
   "cell_type": "markdown",
   "metadata": {},
   "source": [
    "## 3.0 Access workspace & write config\n",
    "\n",
    "The following cell uses the Azure ML SDK to attempt to load the workspace specified by your parameters.  If this cell succeeds, your notebook library will be configured to access the workspace from all notebooks using the `Workspace.from_config()` method.  The cell can fail if the specified workspace doesn't exist or you don't have permissions to access it. "
   ]
  },
  {
   "cell_type": "code",
   "execution_count": null,
   "metadata": {},
   "outputs": [],
   "source": [
    "from azureml.core import Workspace\n",
    "\n",
    "try:\n",
    "    ws = Workspace(subscription_id = subscription_id, \n",
    "                   resource_group = resource_group, \n",
    "                   workspace_name = workspace_name)\n",
    "    # write the details of the workspace to a configuration file to the notebook library\n",
    "    ws.write_config(path=\"../\", file_name=\"config.json\")\n",
    "    print(\"Workspace configuration succeeded. Skip the workspace creation steps below\")\n",
    "except:\n",
    "    print(\"Workspace not accessible. Change your parameters or create a new workspace below\")"
   ]
  },
  {
   "cell_type": "markdown",
   "metadata": {},
   "source": [
    "When connecting to the Workspace, you may be prompted to complete interactive authentication. If you are receiving errors refer to [Authentication in AzureML](https://github.com/Azure/MachineLearningNotebooks/blob/master/how-to-use-azureml/manage-azureml-service/authentication-in-azureml/authentication-in-azureml.ipynb). If you have multiple subscriptions, you can use InteractiveLoginAuthentication to specify which directory to use. Here's a sample code block to use InteractiveLoginAuthentication."
   ]
  },
  {
   "cell_type": "code",
   "execution_count": null,
   "metadata": {},
   "outputs": [],
   "source": [
    "# from azureml.core.authentication import InteractiveLoginAuthentication\n",
    "\n",
    "# interactive_auth = InteractiveLoginAuthentication(tenant_id=\"my-tenant-id\")\n",
    "\n",
    "# from azureml.core import Workspace\n",
    "\n",
    "# ws = Workspace(subscription_id=\"my-subscription-id\",\n",
    "#                resource_group=\"my-ml-rg\",\n",
    "#                workspace_name=\"my-ml-workspace\",\n",
    "#                auth=interactive_auth)"
   ]
  },
  {
   "cell_type": "markdown",
   "metadata": {},
   "source": [
    "### Create a new workspace \n",
    "If you don't have an existing workspace, you can use the command below to create one. The cell will create an Azure ML workspace for you in your subscription provided you have the correct permissions.\n",
    "\n",
    "**Note**: A *basic* workspace is created by default. If you would like to create an *enterprise* workspace, please specify ```sku = 'enterprise'```. Please visit our [pricing page](https://azure.microsoft.com/en-us/pricing/details/machine-learning/) for more details on enterprise edition."
   ]
  },
  {
   "cell_type": "code",
   "execution_count": null,
   "metadata": {},
   "outputs": [],
   "source": [
    "\n",
    "# Create the workspace using the specified parameters\n",
    "# ws = Workspace.create(name = workspace_name,\n",
    "#                      subscription_id = subscription_id,\n",
    "#                      resource_group = resource_group, \n",
    "#                      location = workspace_region,\n",
    "#                      create_resource_group = True,\n",
    "#                      sku = 'basic',\n",
    "#                      exist_ok = True)\n",
    "# ws.get_details()\n",
    "\n",
    "# write the details of the workspace to a configuration file to the notebook library\n",
    "# ws.write_config(path=\"../\", file_name=\"config.json\")"
   ]
  },
  {
   "cell_type": "markdown",
   "metadata": {},
   "source": [
    "## 4.0 Create a compute cluster\n",
    "The following cell will create a AML compute cluster to run the training, scoring, and forecasting pipelines. This is a one-time set up so you won't need to re-run this in future notebooks.\n",
    "\n",
    "We created a AML compute cluster called 'train-many-model'. The VM size is STANDARD_D13_V2 with a minimal node count of 5.\n",
    "The D-series VMs are used for tasks that require higher compute power and temporary disk performance. This [page](https://docs.microsoft.com/en-us/azure/cloud-services/cloud-services-sizes-specs) will give you more information on VM sizes to help you decide which will best fit your use case. "
   ]
  },
  {
   "cell_type": "code",
   "execution_count": null,
   "metadata": {},
   "outputs": [],
   "source": [
    "from azureml.core.compute import ComputeTarget, AmlCompute\n",
    "from azureml.core.compute_target import ComputeTargetException\n",
    "\n",
    "# Choose a name for your CPU cluster\n",
    "cpu_cluster_name = \"train-many-model\"\n",
    "\n",
    "# Verify that cluster does not exist already\n",
    "try:\n",
    "    cpu_cluster = ComputeTarget(workspace=ws, name=cpu_cluster_name)\n",
    "    print('Found existing cluster, use it.')\n",
    "except ComputeTargetException:\n",
    "    compute_config = AmlCompute.provisioning_configuration(vm_size='STANDARD_D13_V2',\n",
    "                                                           min_nodes=5,\n",
    "                                                           max_nodes=20)\n",
    "    cpu_cluster = ComputeTarget.create(ws, cpu_cluster_name, compute_config)\n",
    "\n",
    "cpu_cluster.wait_for_completion(show_output=True)"
   ]
  },
  {
   "cell_type": "markdown",
   "metadata": {},
   "source": [
    "## 5.0 Create blob containers"
   ]
  },
  {
   "cell_type": "markdown",
   "metadata": {},
   "source": [
    "For each pipeline, a seperate blob container is used to store the prediction results and logs. This section creates the three blob containers. We'll then register these containers as datastores in the workspace in the next cell.\n",
    "\n",
    "First, identify the connection string of your blob storage account. This can be found in the Azure portal. Navigate to your storage account and  under *Settings* click the *Access keys* tab. Copy one of the connection strings and paste the value in the cell below."
   ]
  },
  {
   "cell_type": "code",
   "execution_count": null,
   "metadata": {},
   "outputs": [],
   "source": [
    "connect_str = '<my-connection-string>' # Storage account connection string"
   ]
  },
  {
   "cell_type": "markdown",
   "metadata": {},
   "source": [
    "**Note:** If you can't import BlobServiceClient, run the following pip install command to install the package. After you install the package, you'll need to restart the kernel and re-run the cell:"
   ]
  },
  {
   "cell_type": "code",
   "execution_count": null,
   "metadata": {},
   "outputs": [],
   "source": [
    "!pip install azure-storage-blob==12.1.0"
   ]
  },
  {
   "cell_type": "code",
   "execution_count": null,
   "metadata": {},
   "outputs": [],
   "source": [
    "from azure.storage.blob import BlobServiceClient\n",
    "\n",
    "blob_service_client = BlobServiceClient.from_connection_string(connect_str)\n",
    "\n",
    "# Create the training container\n",
    "train_container_client = blob_service_client.create_container('training-output')\n",
    "\n",
    "# Create the forecasting container\n",
    "forecast_container_client = blob_service_client.create_container('forecasting-output')"
   ]
  },
  {
   "cell_type": "markdown",
   "metadata": {},
   "source": [
    "## 6.0 Register blob containers to the workspace\n",
    "\n",
    "After creating blob containers, register the containers to the workspace. You'll use these datastores in the training, scoring, and forecasting notebooks, respectively. \n",
    "\n",
    "We'll need the blob account name and account key. These can be found in the Azure portal. Navigate to your storage account and  under *Settings* click the *Access keys* tab. You should be able to find the *Storage account name* and *Key*. Paste the values into the cell below."
   ]
  },
  {
   "cell_type": "code",
   "execution_count": null,
   "metadata": {},
   "outputs": [],
   "source": [
    "account_name = \"<my-account-name>\" # Storage account name\n",
    "account_key = \"<my-account-key>\" # Storage account key"
   ]
  },
  {
   "cell_type": "markdown",
   "metadata": {},
   "source": [
    "Now we can register the blob containers to the Workspace. We will call the **datastore_name** in the following notebooks. "
   ]
  },
  {
   "cell_type": "code",
   "execution_count": null,
   "metadata": {},
   "outputs": [],
   "source": [
    "from azureml.core import Datastore\n",
    "\n",
    "training_output_datastore = Datastore.register_azure_blob_container(\n",
    "           workspace=ws,\n",
    "           datastore_name='training_output_datastore', \n",
    "           account_name=account_name,\n",
    "           container_name='training-output', \n",
    "           account_key=account_key)\n",
    "\n",
    "forecasting_output_datastore = Datastore.register_azure_blob_container(\n",
    "           workspace=ws,\n",
    "           datastore_name='forecasting_output_datastore',\n",
    "           account_name=account_name, \n",
    "           container_name='forecasting-output', \n",
    "           account_key=account_key)  "
   ]
  },
  {
   "cell_type": "markdown",
   "metadata": {},
   "source": [
    "You can use [Microsoft Storage Explorer](https://docs.microsoft.com/en-us/azure/vs-azure-tools-storage-manage-with-storage-explorer?tabs=windows) to easily view your datastores and files. "
   ]
  },
  {
   "cell_type": "markdown",
   "metadata": {},
   "source": [
    "---\n",
    "\n",
    "## Next steps\n",
    "\n",
    "Now that you've created your configuration file, you're all set to move on to the [01_Data_Preparation.ipynb](https://github.com/microsoft/solution-accelerator-many-models/blob/master/01_Data_Preparation/01_Data_Preparation.ipynb) notebook to prepare your datasets."
   ]
  }
 ],
 "metadata": {
  "authors": [
   {
    "name": "roastala"
   }
  ],
  "kernelspec": {
   "display_name": "Python 3",
   "language": "python",
   "name": "python3"
  },
  "language_info": {
   "codemirror_mode": {
    "name": "ipython",
    "version": 3
   },
   "file_extension": ".py",
   "mimetype": "text/x-python",
   "name": "python",
   "nbconvert_exporter": "python",
   "pygments_lexer": "ipython3",
   "version": "3.7.3"
  }
 },
 "nbformat": 4,
 "nbformat_minor": 2
}
