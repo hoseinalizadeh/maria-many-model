{
 "cells": [
  {
   "cell_type": "markdown",
   "metadata": {},
   "source": [
    "# Register Dataset\n",
    "\n",
    "In this notebook we register the dataset."
   ]
  },
  {
   "cell_type": "code",
   "execution_count": 1,
   "metadata": {},
   "outputs": [],
   "source": [
    "from azureml.core import Workspace, Dataset, Datastore, VERSION\n",
    "from azureml.core.compute import AmlCompute"
   ]
  },
  {
   "cell_type": "code",
   "execution_count": 2,
   "metadata": {},
   "outputs": [
    {
     "data": {
      "text/plain": [
       "'1.0.48'"
      ]
     },
     "execution_count": 2,
     "metadata": {},
     "output_type": "execute_result"
    }
   ],
   "source": [
    "VERSION"
   ]
  },
  {
   "cell_type": "code",
   "execution_count": 3,
   "metadata": {},
   "outputs": [],
   "source": [
    "ws = Workspace.from_config()\n",
    "dstor = ws.datastores['datalake']"
   ]
  },
  {
   "cell_type": "code",
   "execution_count": 4,
   "metadata": {},
   "outputs": [
    {
     "data": {
      "text/html": [
       "<div>\n",
       "<style scoped>\n",
       "    .dataframe tbody tr th:only-of-type {\n",
       "        vertical-align: middle;\n",
       "    }\n",
       "\n",
       "    .dataframe tbody tr th {\n",
       "        vertical-align: top;\n",
       "    }\n",
       "\n",
       "    .dataframe thead th {\n",
       "        text-align: right;\n",
       "    }\n",
       "</style>\n",
       "<table border=\"1\" class=\"dataframe\">\n",
       "  <thead>\n",
       "    <tr style=\"text-align: right;\">\n",
       "      <th></th>\n",
       "      <th>ACCOUNT_NUMBER</th>\n",
       "      <th>AGE</th>\n",
       "      <th>APP_DOWNLOADED</th>\n",
       "      <th>APP_OFFER_USER</th>\n",
       "      <th>BOUGHT_CATEGORY_10</th>\n",
       "      <th>BOUGHT_CATEGORY_3</th>\n",
       "      <th>BOUGHT_CATEGORY_4</th>\n",
       "      <th>BOUGHT_CATEGORY_5</th>\n",
       "      <th>BOUGHT_CATEGORY_6</th>\n",
       "      <th>BOUGHT_CATEGORY_7</th>\n",
       "      <th>...</th>\n",
       "      <th>COUNTRY_CODE</th>\n",
       "      <th>EMAILABLE</th>\n",
       "      <th>GENDER</th>\n",
       "      <th>HEALTH_CLUB</th>\n",
       "      <th>LATITUDE</th>\n",
       "      <th>LONGITUDE</th>\n",
       "      <th>MAILABLE</th>\n",
       "      <th>ONLINE_SHOPPER</th>\n",
       "      <th>PARENT_CLUB</th>\n",
       "      <th>TENURE</th>\n",
       "    </tr>\n",
       "  </thead>\n",
       "  <tbody>\n",
       "    <tr>\n",
       "      <th>0</th>\n",
       "      <td>48522366</td>\n",
       "      <td>42.0</td>\n",
       "      <td>False</td>\n",
       "      <td>False</td>\n",
       "      <td>N</td>\n",
       "      <td>N</td>\n",
       "      <td>U</td>\n",
       "      <td>Y</td>\n",
       "      <td>U</td>\n",
       "      <td>N</td>\n",
       "      <td>...</td>\n",
       "      <td>ENG</td>\n",
       "      <td>False</td>\n",
       "      <td>M</td>\n",
       "      <td>False</td>\n",
       "      <td>53.792526</td>\n",
       "      <td>1.550590</td>\n",
       "      <td>True</td>\n",
       "      <td>True</td>\n",
       "      <td>False</td>\n",
       "      <td>13</td>\n",
       "    </tr>\n",
       "    <tr>\n",
       "      <th>1</th>\n",
       "      <td>80774225</td>\n",
       "      <td>49.0</td>\n",
       "      <td>False</td>\n",
       "      <td>False</td>\n",
       "      <td>N</td>\n",
       "      <td>Y</td>\n",
       "      <td>U</td>\n",
       "      <td>N</td>\n",
       "      <td>N</td>\n",
       "      <td>U</td>\n",
       "      <td>...</td>\n",
       "      <td>ENG</td>\n",
       "      <td>True</td>\n",
       "      <td>M</td>\n",
       "      <td>False</td>\n",
       "      <td>51.526898</td>\n",
       "      <td>0.127894</td>\n",
       "      <td>False</td>\n",
       "      <td>False</td>\n",
       "      <td>False</td>\n",
       "      <td>9</td>\n",
       "    </tr>\n",
       "    <tr>\n",
       "      <th>2</th>\n",
       "      <td>50718888</td>\n",
       "      <td>28.0</td>\n",
       "      <td>True</td>\n",
       "      <td>False</td>\n",
       "      <td>U</td>\n",
       "      <td>N</td>\n",
       "      <td>Y</td>\n",
       "      <td>N</td>\n",
       "      <td>N</td>\n",
       "      <td>N</td>\n",
       "      <td>...</td>\n",
       "      <td>ENG</td>\n",
       "      <td>True</td>\n",
       "      <td>M</td>\n",
       "      <td>False</td>\n",
       "      <td>51.525729</td>\n",
       "      <td>0.127879</td>\n",
       "      <td>False</td>\n",
       "      <td>True</td>\n",
       "      <td>True</td>\n",
       "      <td>5</td>\n",
       "    </tr>\n",
       "  </tbody>\n",
       "</table>\n",
       "<p>3 rows × 54 columns</p>\n",
       "</div>"
      ],
      "text/plain": [
       "   ACCOUNT_NUMBER   AGE  APP_DOWNLOADED  APP_OFFER_USER BOUGHT_CATEGORY_10  \\\n",
       "0        48522366  42.0           False           False                  N   \n",
       "1        80774225  49.0           False           False                  N   \n",
       "2        50718888  28.0            True           False                  U   \n",
       "\n",
       "  BOUGHT_CATEGORY_3 BOUGHT_CATEGORY_4 BOUGHT_CATEGORY_5 BOUGHT_CATEGORY_6  \\\n",
       "0                 N                 U                 Y                 U   \n",
       "1                 Y                 U                 N                 N   \n",
       "2                 N                 Y                 N                 N   \n",
       "\n",
       "  BOUGHT_CATEGORY_7   ...   COUNTRY_CODE EMAILABLE GENDER HEALTH_CLUB  \\\n",
       "0                 N   ...            ENG     False      M       False   \n",
       "1                 U   ...            ENG      True      M       False   \n",
       "2                 N   ...            ENG      True      M       False   \n",
       "\n",
       "    LATITUDE  LONGITUDE  MAILABLE  ONLINE_SHOPPER  PARENT_CLUB  TENURE  \n",
       "0  53.792526   1.550590      True            True        False      13  \n",
       "1  51.526898   0.127894     False           False        False       9  \n",
       "2  51.525729   0.127879     False            True         True       5  \n",
       "\n",
       "[3 rows x 54 columns]"
      ]
     },
     "execution_count": 4,
     "metadata": {},
     "output_type": "execute_result"
    }
   ],
   "source": [
    "ds_train = Dataset.auto_read_files(dstor.path(\"airlift/data-latest.csv\"))\n",
    "ds_score = Dataset.auto_read_files(dstor.path(\"airlift/data-to-score.csv\"))\n",
    "ds_train.head(3)"
   ]
  },
  {
   "cell_type": "code",
   "execution_count": 5,
   "metadata": {},
   "outputs": [],
   "source": [
    "ds_train_def = ds_train.get_definition()\n",
    "ds_score_def = ds_score.get_definition()"
   ]
  },
  {
   "cell_type": "code",
   "execution_count": 6,
   "metadata": {},
   "outputs": [
    {
     "data": {
      "text/plain": [
       "Index(['ACCOUNT_NUMBER', 'AGE', 'APP_DOWNLOADED', 'APP_OFFER_USER',\n",
       "       'BOUGHT_CATEGORY_10', 'BOUGHT_CATEGORY_3', 'BOUGHT_CATEGORY_4',\n",
       "       'BOUGHT_CATEGORY_5', 'BOUGHT_CATEGORY_6', 'BOUGHT_CATEGORY_7',\n",
       "       'BOUGHT_CATEGORY_8', 'BOUGHT_CATEGORY_9', 'BOUGHT_CATEGORY_1',\n",
       "       'BOUGHT_CATEGORY_2', 'CATEGORY_10_CLICKS', 'CATEGORY_10_COUNT',\n",
       "       'CATEGORY_10_SPEND', 'CATEGORY_3_CLICKS', 'CATEGORY_3_COUNT',\n",
       "       'CATEGORY_3_SPEND', 'CATEGORY_4_CLICKS', 'CATEGORY_4_COUNT',\n",
       "       'CATEGORY_4_SPEND', 'CATEGORY_5_CLICKS', 'CATEGORY_5_COUNT',\n",
       "       'CATEGORY_5_SPEND', 'CATEGORY_6_CLICKS', 'CATEGORY_6_COUNT',\n",
       "       'CATEGORY_6_SPEND', 'CATEGORY_7_CLICKS', 'CATEGORY_7_COUNT',\n",
       "       'CATEGORY_7_SPEND', 'CATEGORY_8_CLICKS', 'CATEGORY_8_COUNT',\n",
       "       'CATEGORY_8_SPEND', 'CATEGORY_9_CLICKS', 'CATEGORY_9_COUNT',\n",
       "       'CATEGORY_9_SPEND', 'CATEGORY_1_CLICKS', 'CATEGORY_1_COUNT',\n",
       "       'CATEGORY_1_SPEND', 'CATEGORY_2_CLICKS', 'CATEGORY_2_COUNT',\n",
       "       'CATEGORY_2_SPEND', 'COUNTRY_CODE', 'EMAILABLE', 'GENDER',\n",
       "       'HEALTH_CLUB', 'LATITUDE', 'LONGITUDE', 'MAILABLE', 'ONLINE_SHOPPER',\n",
       "       'PARENT_CLUB', 'TENURE'],\n",
       "      dtype='object')"
      ]
     },
     "execution_count": 6,
     "metadata": {},
     "output_type": "execute_result"
    }
   ],
   "source": [
    "ds_train_def = ds_train_def.rename_columns({\"BOUGHT_CATEGORY_FNN\":\"BOUGHT_CATEGORY_1\",\n",
    "                                \"BOUGHT_CATEGORY_WLN\":\"BOUGHT_CATEGORY_2\",\n",
    "                               \"CATEGORY_FNN_CLICKS\":\"CATEGORY_1_CLICKS\",\n",
    "                               \"CATEGORY_WLN_CLICKS\":\"CATEGORY_2_CLICKS\",\n",
    "                               \"CATEGORY_FNN_SPEND\":\"CATEGORY_1_SPEND\",\n",
    "                               \"CATEGORY_WLN_SPEND\":\"CATEGORY_2_SPEND\",\n",
    "                                \"CATEGORY_FNN_COUNT\":\"CATEGORY_1_COUNT\",\n",
    "                               \"CATEGORY_WLN_COUNT\":\"CATEGORY_2_COUNT\"})\n",
    "\n",
    "ds_score_def = ds_score_def.rename_columns({\"CATEGORY_FNN_CLICKS\":\"CATEGORY_1_CLICKS\",\n",
    "                               \"CATEGORY_WLN_CLICKS\":\"CATEGORY_2_CLICKS\",\n",
    "                               \"CATEGORY_FNN_SPEND\":\"CATEGORY_1_SPEND\",\n",
    "                               \"CATEGORY_WLN_SPEND\":\"CATEGORY_2_SPEND\",\n",
    "                                \"CATEGORY_FNN_COUNT\":\"CATEGORY_1_COUNT\",\n",
    "                               \"CATEGORY_WLN_COUNT\":\"CATEGORY_2_COUNT\"})\n",
    "\n",
    "ds_train_def.head(3).columns"
   ]
  },
  {
   "cell_type": "code",
   "execution_count": 7,
   "metadata": {},
   "outputs": [
    {
     "data": {
      "text/plain": [
       "Dataset(Name: AirliftDataset-Score,\n",
       "Workspace: dev)"
      ]
     },
     "execution_count": 7,
     "metadata": {},
     "output_type": "execute_result"
    }
   ],
   "source": [
    "ds_train.update_definition(ds_train_def, \"column changes\")\n",
    "ds_score.update_definition(ds_score_def, \"column changes\")\n",
    "ds_train.register(ws, name=\"AirliftDataset-Train\", exist_ok=True)\n",
    "ds_score.register(ws, name=\"AirliftDataset-Score\", exist_ok=True)"
   ]
  },
  {
   "cell_type": "code",
   "execution_count": 8,
   "metadata": {},
   "outputs": [
    {
     "data": {
      "text/plain": [
       "<azureml.data.dataset_action_run.DatasetActionRun at 0x7fcd3d9c3048>"
      ]
     },
     "execution_count": 8,
     "metadata": {},
     "output_type": "execute_result"
    }
   ],
   "source": [
    "ct = AmlCompute(ws, \"onenode-cpu\")\n",
    "ds_train.generate_profile(ct, workspace=ws)\n",
    "ds_score.generate_profile(ct, workspace=ws)"
   ]
  }
 ],
 "metadata": {
  "kernelspec": {
   "display_name": "Python 3.6 - AzureML",
   "language": "python",
   "name": "python3-azureml"
  },
  "language_info": {
   "codemirror_mode": {
    "name": "ipython",
    "version": 3
   },
   "file_extension": ".py",
   "mimetype": "text/x-python",
   "name": "python",
   "nbconvert_exporter": "python",
   "pygments_lexer": "ipython3",
   "version": "3.7.3"
  }
 },
 "nbformat": 4,
 "nbformat_minor": 2
}
