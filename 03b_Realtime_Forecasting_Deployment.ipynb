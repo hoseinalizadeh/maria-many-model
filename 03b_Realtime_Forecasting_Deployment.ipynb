{
 "cells": [
  {
   "cell_type": "markdown",
   "metadata": {},
   "source": [
    "Copyright (c) Microsoft Corporation. All rights reserved.\n",
    "\n",
    "Licensed under the MIT License."
   ]
  },
  {
   "cell_type": "markdown",
   "metadata": {},
   "source": [
    "# Real-time Forecasting Webservice Deployment\n",
    "---\n",
    "\n",
    "In this notebook we deploy a webservice to forecast sales in real-time with the models we trained in the last step. #TODO blabla\n",
    "\n",
    "### Prerequisites\n",
    "At this point, you should have already:\n",
    "\n",
    "1. Created your AML Workspace\n",
    "2. Run 00_Environment_Setup.ipynb to configure the enviroment\n",
    "3. Run 01_Training_Pipeline.ipynb to train the models"
   ]
  },
  {
   "cell_type": "markdown",
   "metadata": {},
   "source": [
    "## 1.0 Connect to workspace"
   ]
  },
  {
   "cell_type": "code",
   "execution_count": 3,
   "metadata": {
    "scrolled": true
   },
   "outputs": [
    {
     "name": "stdout",
     "output_type": "stream",
     "text": [
      "Workspace Name: manymodelspip0aml\n",
      "Azure Region: westeurope\n",
      "Subscription Id: ed835daf-8df9-4922-a58f-74a80da0b5c0\n",
      "Resource Group: manymodels-pipeline\n"
     ]
    }
   ],
   "source": [
    "from azureml.core import Workspace\n",
    "\n",
    "ws = Workspace.from_config()\n",
    "\n",
    "print('Workspace Name: ' + ws.name, \n",
    "      'Azure Region: ' + ws.location, \n",
    "      'Subscription Id: ' + ws.subscription_id, \n",
    "      'Resource Group: ' + ws.resource_group, sep='\\n')"
   ]
  },
  {
   "cell_type": "markdown",
   "metadata": {},
   "source": [
    "## 2.0 Get models to be deployed"
   ]
  },
  {
   "cell_type": "markdown",
   "metadata": {},
   "source": [
    "### 2.1 Get all models registered in the workspace"
   ]
  },
  {
   "cell_type": "code",
   "execution_count": 2,
   "metadata": {
    "scrolled": true
   },
   "outputs": [],
   "source": [
    "from azureml.core import Model\n",
    "\n",
    "models = Model.list(ws, latest=True)"
   ]
  },
  {
   "cell_type": "markdown",
   "metadata": {},
   "source": [
    "### 2.2 Group models by store"
   ]
  },
  {
   "cell_type": "code",
   "execution_count": 7,
   "metadata": {},
   "outputs": [],
   "source": [
    "models_groups = {}\n",
    "for m in models:\n",
    "    \n",
    "    if m.tags['ModelType'] == '_deployment_':\n",
    "        continue\n",
    "        \n",
    "    models_store = models_groups.setdefault(m.tags['Store'], [])\n",
    "    models_store.append(m)"
   ]
  },
  {
   "cell_type": "markdown",
   "metadata": {},
   "source": [
    "## 3.0 Configure deployment"
   ]
  },
  {
   "cell_type": "markdown",
   "metadata": {},
   "source": [
    "### 3.1 Define inference environment"
   ]
  },
  {
   "cell_type": "code",
   "execution_count": 63,
   "metadata": {},
   "outputs": [],
   "source": [
    "from azureml.core import Environment\n",
    "from azureml.core.conda_dependencies import CondaDependencies\n",
    "\n",
    "forecast_env = Environment(name=\"many_models_environment\")\n",
    "forecast_conda_deps = CondaDependencies.create(pip_packages=['azureml-defaults', 'sklearn'])\n",
    "forecast_env.python.conda_dependencies = forecast_conda_deps"
   ]
  },
  {
   "cell_type": "markdown",
   "metadata": {},
   "source": [
    "### 3.2 Define inference configuration"
   ]
  },
  {
   "cell_type": "code",
   "execution_count": 64,
   "metadata": {},
   "outputs": [],
   "source": [
    "from azureml.core.model import InferenceConfig\n",
    "\n",
    "inference_config = InferenceConfig(\n",
    "    entry_script='forecast_webservice.py',\n",
    "    source_directory='./scripts',\n",
    "    environment=forecast_env\n",
    ")"
   ]
  },
  {
   "cell_type": "markdown",
   "metadata": {},
   "source": [
    "### 3.3 Define deploy configuration"
   ]
  },
  {
   "cell_type": "markdown",
   "metadata": {},
   "source": [
    "We will deploy the models to Azure Container Instances, indicated for dev/test environments."
   ]
  },
  {
   "cell_type": "code",
   "execution_count": 9,
   "metadata": {},
   "outputs": [],
   "source": [
    "from azureml.core.webservice import AciWebservice\n",
    "\n",
    "aci_config = AciWebservice.deploy_configuration(cpu_cores=1, memory_gb=1)"
   ]
  },
  {
   "cell_type": "markdown",
   "metadata": {},
   "source": [
    "## 4.0 Deploy the models"
   ]
  },
  {
   "cell_type": "markdown",
   "metadata": {},
   "source": [
    "We will deploy one webservice for each of the groups of models"
   ]
  },
  {
   "cell_type": "code",
   "execution_count": 91,
   "metadata": {},
   "outputs": [
    {
     "name": "stdout",
     "output_type": "stream",
     "text": [
      "Deploying manymodels-store1005...\n",
      "Running...\n",
      "Succeeded\n",
      "ACI service creation operation finished, operation \"Succeeded\"\n",
      "Deploying manymodels-store1006...\n",
      "Running........................\n",
      "Succeeded\n",
      "ACI service creation operation finished, operation \"Succeeded\"\n",
      "Deploying manymodels-store1002...\n",
      "Running.............................\n",
      "Succeeded\n",
      "ACI service creation operation finished, operation \"Succeeded\"\n",
      "Deploying manymodels-store1004...\n",
      "Running.............................\n",
      "Succeeded\n",
      "ACI service creation operation finished, operation \"Succeeded\"\n",
      "Deploying manymodels-store1003...\n",
      "Running..........................\n",
      "Succeeded\n",
      "ACI service creation operation finished, operation \"Succeeded\"\n",
      "Deploying manymodels-store1000...\n",
      "Running.............................\n",
      "Succeeded\n",
      "ACI service creation operation finished, operation \"Succeeded\"\n",
      "Deploying manymodels-store1001...\n",
      "Running.............................\n",
      "Succeeded\n",
      "ACI service creation operation finished, operation \"Succeeded\"\n"
     ]
    }
   ],
   "source": [
    "deployments = {}\n",
    "for group_name, group_models in models_groups.items():\n",
    "    \n",
    "    service_name = 'manymodels-{}'.format(group_name).lower()\n",
    "    service = Model.deploy(\n",
    "        workspace=ws,\n",
    "        name=service_name,\n",
    "        models=group_models,\n",
    "        inference_config=inference_config,\n",
    "        deployment_config=aci_config,\n",
    "        overwrite=True\n",
    "    )\n",
    "    \n",
    "    print('Deploying {}...'.format(service_name))\n",
    "    service.wait_for_deployment(show_output=True)\n",
    "    assert service.state == 'Healthy'\n",
    "    \n",
    "    # Store pairs model - service where the model is deployed\n",
    "    for m in group_models:\n",
    "        deployments[m.name] = service.scoring_uri\n"
   ]
  },
  {
   "cell_type": "markdown",
   "metadata": {},
   "source": [
    "## 5.0 Group all models into a single routing endpoint"
   ]
  },
  {
   "cell_type": "markdown",
   "metadata": {},
   "source": [
    "### 5.1 Register deployments as an AML model"
   ]
  },
  {
   "cell_type": "code",
   "execution_count": 33,
   "metadata": {},
   "outputs": [
    {
     "name": "stdout",
     "output_type": "stream",
     "text": [
      "Registering model models_deployed\n"
     ]
    }
   ],
   "source": [
    "import joblib\n",
    "\n",
    "joblib.dump(deployments, 'deployments.pkl')\n",
    "\n",
    "dep_model = Model.register(\n",
    "    workspace=ws, \n",
    "    model_path ='deployments.pkl', \n",
    "    model_name='models_deployed',\n",
    "    tags={'ModelType': '_deployment_'},\n",
    "    description='Dictionary of the service endpoint where each model is deployed'\n",
    ")"
   ]
  },
  {
   "cell_type": "markdown",
   "metadata": {},
   "source": [
    "### 5.2 Deploy routing webservice\n",
    "\n",
    "\n"
   ]
  },
  {
   "cell_type": "code",
   "execution_count": 68,
   "metadata": {},
   "outputs": [
    {
     "name": "stdout",
     "output_type": "stream",
     "text": [
      "Running....\n",
      "Succeeded\n",
      "ACI service creation operation finished, operation \"Succeeded\"\n",
      "Routing endpoint deployed with URL: http://e5dbd7b3-1145-4eb4-9d38-109cb8bc7e94.westeurope.azurecontainer.io/score\n"
     ]
    }
   ],
   "source": [
    "routing_env = Environment(name=\"many_models_routing_environment\")\n",
    "routing_env_deps = CondaDependencies.create(pip_packages=['azureml-defaults', 'joblib'])\n",
    "routing_env.python.conda_dependencies = routing_env_deps\n",
    "\n",
    "routing_infconfig = InferenceConfig(\n",
    "    entry_script='routing_webservice.py',\n",
    "    source_directory='./scripts',\n",
    "    environment=routing_env\n",
    ")\n",
    "\n",
    "routing_aciconfig = AciWebservice.deploy_configuration(cpu_cores=0.1, memory_gb=0.5)\n",
    "\n",
    "routing_service = Model.deploy(\n",
    "    workspace=ws,\n",
    "    name='routing-manymodels',\n",
    "    models=[dep_model],\n",
    "    inference_config=routing_infconfig,\n",
    "    deployment_config=routing_aciconfig,\n",
    "    overwrite=True\n",
    ")\n",
    "routing_service.wait_for_deployment(show_output=True)\n",
    "\n",
    "assert routing_service.state == 'Healthy'\n",
    "\n",
    "print('Routing endpoint deployed with URL: {}'.format(routing_service.scoring_uri))"
   ]
  },
  {
   "cell_type": "markdown",
   "metadata": {},
   "source": [
    "### 5.3 Test the webservice"
   ]
  },
  {
   "cell_type": "code",
   "execution_count": 78,
   "metadata": {},
   "outputs": [
    {
     "data": {
      "text/plain": [
       "{'store': 'Store1004',\n",
       " 'brand': 'minute.maid',\n",
       " 'forecast_horizon': 5,\n",
       " 'model_type': 'lr',\n",
       " 'date_freq': 'W-THU',\n",
       " 'forecast': {'dates': ['2020-14-05',\n",
       "   '2020-21-05',\n",
       "   '2020-28-05',\n",
       "   '2020-04-06',\n",
       "   '2020-11-06'],\n",
       "  'values': [15114.744450665286,\n",
       "   14847.15424242685,\n",
       "   14174.95421544685,\n",
       "   14034.53635228468,\n",
       "   14119.002027428172]}}"
      ]
     },
     "execution_count": 78,
     "metadata": {},
     "output_type": "execute_result"
    }
   ],
   "source": [
    "test_data = {\n",
    "    \"store\": \"Store1004\", \"brand\": \"minute.maid\", \n",
    "    \"forecast_horizon\": 5, \"model_type\": \"lr\", \"date_freq\": \"W-THU\",\n",
    "    \"data\": {\n",
    "        \"dates\": [\"2020-04-23\", \"2020-04-30\", \"2020-05-07\"],\n",
    "        \"values\": [11450, 12235, 14713]\n",
    "    }\n",
    "}\n",
    "\n",
    "test_forecast = routing_service.run(json.dumps(test_data))\n",
    "test_forecast"
   ]
  }
 ],
 "metadata": {
  "kernelspec": {
   "display_name": "Python 3",
   "language": "python",
   "name": "python3"
  },
  "language_info": {
   "codemirror_mode": {
    "name": "ipython",
    "version": 3
   },
   "file_extension": ".py",
   "mimetype": "text/x-python",
   "name": "python",
   "nbconvert_exporter": "python",
   "pygments_lexer": "ipython3",
   "version": "3.7.3"
  }
 },
 "nbformat": 4,
 "nbformat_minor": 2
}
